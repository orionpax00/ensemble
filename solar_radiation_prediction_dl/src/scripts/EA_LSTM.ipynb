{
 "cells": [
  {
   "cell_type": "markdown",
   "metadata": {},
   "source": [
    "# EA LSTM :  Evolutionary Attention-based LSTM\n",
    "\n",
    "![img](../../docs/assets/images/EALSTM.png)"
   ]
  },
  {
   "cell_type": "code",
   "execution_count": 1,
   "metadata": {},
   "outputs": [
    {
     "name": "stdout",
     "output_type": "stream",
     "text": [
      "2.0.0\n"
     ]
    }
   ],
   "source": [
    "import tensorflow as tf\n",
    "print(tf.__version__)"
   ]
  },
  {
   "cell_type": "code",
   "execution_count": 85,
   "metadata": {},
   "outputs": [],
   "source": [
    "class AttentionModule(tf.keras.layers.Layer):\n",
    "    \"\"\"\n",
    "    This layer is the implementation of Simple History attention LSTM\n",
    "    \"\"\"\n",
    "    \n",
    "    def __init__(self, history_size):\n",
    "        super(AttentionModule, self).__init__()\n",
    "        self.history_size = history_size\n",
    "        \n",
    "    def build(self, input_shape):\n",
    "        self.kernel = self.add_weight(\"kernel\", shape=[self.history_size, self.history_size])\n",
    "        \n",
    "    def call(self, input_tensor):\n",
    "        attended_weights = tf.nn.softmax(tf.matmul(input_tensor, self.kernel))\n",
    "        attended_input = tf.multipy(attended_weights, input_tensor)\n",
    "        return attended_input\n",
    "        \n",
    "        "
   ]
  },
  {
   "cell_type": "code",
   "execution_count": 114,
   "metadata": {},
   "outputs": [],
   "source": [
    "layer = AttentionModule(3)"
   ]
  },
  {
   "cell_type": "code",
   "execution_count": 115,
   "metadata": {},
   "outputs": [],
   "source": [
    "input_= tf.random.normal([2,3])\n",
    "_ = layer(input_)"
   ]
  },
  {
   "cell_type": "code",
   "execution_count": 116,
   "metadata": {
    "scrolled": true
   },
   "outputs": [
    {
     "data": {
      "text/plain": [
       "[<tf.Variable 'attention_module_17/kernel:0' shape=(3, 3) dtype=float32, numpy=\n",
       " array([[ 0.59267735,  0.9467783 , -0.8708234 ],\n",
       "        [ 0.52953553, -0.12709951,  0.9159403 ],\n",
       "        [-0.6425276 , -0.37680697, -0.12748027]], dtype=float32)>]"
      ]
     },
     "execution_count": 116,
     "metadata": {},
     "output_type": "execute_result"
    }
   ],
   "source": [
    "layer.weights"
   ]
  },
  {
   "cell_type": "code",
   "execution_count": 117,
   "metadata": {},
   "outputs": [
    {
     "data": {
      "text/plain": [
       "<tf.Tensor: id=609, shape=(2, 3), dtype=float32, numpy=\n",
       "array([[0.20666826, 0.12906924, 0.6642626 ],\n",
       "       [0.35655925, 0.3919982 , 0.25144258]], dtype=float32)>"
      ]
     },
     "execution_count": 117,
     "metadata": {},
     "output_type": "execute_result"
    }
   ],
   "source": [
    "_"
   ]
  },
  {
   "cell_type": "code",
   "execution_count": 119,
   "metadata": {},
   "outputs": [
    {
     "data": {
      "text/plain": [
       "<tf.Tensor: id=593, shape=(2, 3), dtype=float32, numpy=\n",
       "array([[-0.01711725,  1.2314945 ,  1.2943593 ],\n",
       "       [ 0.65963894,  0.53350717,  0.7959399 ]], dtype=float32)>"
      ]
     },
     "execution_count": 119,
     "metadata": {},
     "output_type": "execute_result"
    }
   ],
   "source": [
    "input_"
   ]
  },
  {
   "cell_type": "code",
   "execution_count": 118,
   "metadata": {},
   "outputs": [
    {
     "data": {
      "text/plain": [
       "<tf.Tensor: id=611, shape=(2, 3), dtype=float32, numpy=\n",
       "array([[-0.00353759,  0.15894806,  0.8597945 ],\n",
       "       [ 0.23520036,  0.20913385,  0.20013319]], dtype=float32)>"
      ]
     },
     "execution_count": 118,
     "metadata": {},
     "output_type": "execute_result"
    }
   ],
   "source": [
    "tf.multiply(_, input_)"
   ]
  },
  {
   "cell_type": "code",
   "execution_count": null,
   "metadata": {},
   "outputs": [],
   "source": []
  }
 ],
 "metadata": {
  "kernelspec": {
   "display_name": "Python 3",
   "language": "python",
   "name": "python3"
  },
  "language_info": {
   "codemirror_mode": {
    "name": "ipython",
    "version": 3
   },
   "file_extension": ".py",
   "mimetype": "text/x-python",
   "name": "python",
   "nbconvert_exporter": "python",
   "pygments_lexer": "ipython3",
   "version": "3.7.3"
  }
 },
 "nbformat": 4,
 "nbformat_minor": 2
}
