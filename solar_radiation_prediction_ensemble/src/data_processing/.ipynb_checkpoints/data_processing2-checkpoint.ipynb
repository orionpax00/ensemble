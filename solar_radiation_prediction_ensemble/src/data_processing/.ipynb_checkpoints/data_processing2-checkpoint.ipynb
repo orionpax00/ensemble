{
 "cells": [
  {
   "cell_type": "markdown",
   "metadata": {},
   "source": [
    "This notebook contains some data specific analysis, plot may not fit to your data feel free to open an issue asking for your data specific plot.<br>\n",
    "\n",
    "Plots in this notebook is genrally cencerned with time series data"
   ]
  },
  {
   "cell_type": "code",
   "execution_count": 23,
   "metadata": {},
   "outputs": [],
   "source": [
    "#import some important modules\n",
    "import os\n",
    "import pandas as pd\n",
    "import matplotlib.pyplot as plt\n",
    "from matplotlib import colors\n",
    "import seaborn as sns\n",
    "import numpy as np"
   ]
  },
  {
   "cell_type": "code",
   "execution_count": 11,
   "metadata": {},
   "outputs": [],
   "source": [
    "#add the file saved in last data processing file\n",
    "df = pd.read_csv('../../filtered_data_file/2000_main_data.csv')\n",
    "new_df_not_imp = df.loc[:,['Month','Hour','Day']]\n",
    "new_df_imp = df.drop(columns=['Month','Hour','Day'])"
   ]
  },
  {
   "cell_type": "markdown",
   "metadata": {},
   "source": []
  },
  {
   "cell_type": "markdown",
   "metadata": {},
   "source": [
    "As this data is for pre hour solar radiation fall on the earth so we can draw per weak, per month, per day, per year heatmap like plots"
   ]
  },
  {
   "cell_type": "code",
   "execution_count": 12,
   "metadata": {},
   "outputs": [],
   "source": [
    "# Per day for every month\n",
    "ghi = new_df_imp.pop('GHI')"
   ]
  },
  {
   "cell_type": "code",
   "execution_count": 32,
   "metadata": {},
   "outputs": [],
   "source": [
    "# per day for jan\n",
    "data_jan = []\n",
    "for i in range(31):\n",
    "    data_jan.append(ghi[i*24:(i+1)*24])\n",
    "    \n",
    "data_feb = []\n",
    "for i in range(31,60):\n",
    "    data_feb.append(ghi[i*24:(i+1)*24])\n",
    "    \n",
    "data_mar = []\n",
    "for i in range(60,91):\n",
    "    data_mar.append(ghi[i*24:(i+1)*24])\n",
    "    \n",
    "data_apr = []\n",
    "for i in range(91,121):\n",
    "    data_apr.append(ghi[i*24:(i+1)*24])\n",
    "    \n",
    "data_may = []\n",
    "for i in range(121,152):\n",
    "    data_may.append(ghi[i*24:(i+1)*24])\n",
    "    \n",
    "data_june = []\n",
    "for i in range(152,182):\n",
    "    data_june.append(ghi[i*24:(i+1)*24])\n",
    "    \n",
    "data_july = []\n",
    "for i in range(182,213):\n",
    "    data_july.append(ghi[i*24:(i+1)*24])\n",
    "    \n",
    "data_aug = []\n",
    "for i in range(213,244):\n",
    "    data_aug.append(ghi[i*24:(i+1)*24])\n",
    "    \n",
    "data_sep = []\n",
    "for i in range(244,274):\n",
    "    data_sep.append(ghi[i*24:(i+1)*24])\n",
    "    \n",
    "data_oct = []\n",
    "for i in range(274,305):\n",
    "    data_oct.append(ghi[i*24:(i+1)*24])\n",
    "    \n",
    "data_nov = []\n",
    "for i in range(305,335):\n",
    "    data_nov.append(ghi[i*24:(i+1)*24])\n",
    "    \n",
    "data_dec = []\n",
    "for i in range(335,366):\n",
    "    data_dec.append(ghi[i*24:(i+1)*24])\n",
    "# data_jan = np.asarray(data_jan)"
   ]
  },
  {
   "cell_type": "code",
   "execution_count": 25,
   "metadata": {},
   "outputs": [],
   "source": []
  },
  {
   "cell_type": "code",
   "execution_count": 31,
   "metadata": {
    "scrolled": false
   },
   "outputs": [
    {
     "data": {
      "text/plain": [
       "<matplotlib.collections.PolyCollection at 0x1a3652066a0>"
      ]
     },
     "execution_count": 31,
     "metadata": {},
     "output_type": "execute_result"
    },
    {
     "data": {
      "image/png": "[encoded data removed]",
      "text/plain": [
       "<Figure size 432x288 with 1 Axes>"
      ]
     },
     "metadata": {
      "needs_background": "light"
     },
     "output_type": "display_data"
    }
   ],
   "source": [
    "fig, ax = plt.subplots(figsize=())\n",
    "plt.pcolor(data_jan, cmap='seismic', vmin=min(ghi),vmax=max(ghi))"
   ]
  },
  {
   "cell_type": "code",
   "execution_count": null,
   "metadata": {},
   "outputs": [],
   "source": []
  }
 ],
 "metadata": {
  "kernelspec": {
   "display_name": "Python 3",
   "language": "python",
   "name": "python3"
  },
  "language_info": {
   "codemirror_mode": {
    "name": "ipython",
    "version": 3
   },
   "file_extension": ".py",
   "mimetype": "text/x-python",
   "name": "python",
   "nbconvert_exporter": "python",
   "pygments_lexer": "ipython3",
   "version": "3.7.3"
  }
 },
 "nbformat": 4,
 "nbformat_minor": 2
}
