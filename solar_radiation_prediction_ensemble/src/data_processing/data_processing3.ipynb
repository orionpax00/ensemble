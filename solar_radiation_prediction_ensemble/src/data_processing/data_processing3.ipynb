{
 "cells": [
  {
   "cell_type": "markdown",
   "metadata": {},
   "source": [
    "In this notebook be will analyse the data on numerial bases not on graphical basis and will build some functions to transform the data into ml alogorithm feedable data"
   ]
  },
  {
   "cell_type": "code",
   "execution_count": 3,
   "metadata": {},
   "outputs": [],
   "source": [
    "import os\n",
    "import pandas as pd\n",
    "import numpy"
   ]
  },
  {
   "cell_type": "code",
   "execution_count": 4,
   "metadata": {},
   "outputs": [],
   "source": [
    "#load data that is previously saved \n",
    "df = pd.read_csv('../../filtered_data_file/2000_main_data.csv')"
   ]
  },
  {
   "cell_type": "markdown",
   "metadata": {},
   "source": [
    "Datasets generally contains missing values or nan value, Our machine learning algorithms generally fails when they encounters the non numerical value<br>\n",
    "So, we have to fix the nan or missing values first<br>\n",
    "**There are three methods to get ride of nan vakues**\n",
    "* Get rid of the corresponding districts.\n",
    "* Get rid of the whole attribute.\n",
    "* Set the values to some value (zero, the mean, the median, etc.)\n",
    "<br>\n",
    "\n",
    "There are different functions out there in pandas to do the above mentioned task<br>\n",
    "```python\n",
    "housing.dropna(subset=[\"total_bedrooms\"]) # option 1\n",
    "housing.drop(\"total_bedrooms\", axis=1) # option 2\n",
    "median = housing[\"total_bedrooms\"].median() # option 3\n",
    "housing[\"total_bedrooms\"].fillna(median, inplace=True)\n",
    "```\n",
    "<u>ref:<span style=\"color:blue\">O'reilly's Hands-on-Machine-Learning-with-Scikit-2E</span></u>"
   ]
  },
  {
   "cell_type": "code",
   "execution_count": 7,
   "metadata": {},
   "outputs": [
    {
     "data": {
      "text/plain": [
       "False"
      ]
     },
     "execution_count": 7,
     "metadata": {},
     "output_type": "execute_result"
    }
   ],
   "source": [
    "df.isnull().values.any()\n",
    "#the above function returns False which means My dataframe has no nan value\n",
    "# If your data has nan value or missing value uncomment these lines and run code\n",
    "\n",
    "#fill with median\n",
    "\n",
    "# value_for_fill_nan = {} #will require these values in our production model\n",
    "# for columns in df.columns:\n",
    "#     median = df[column].median() #compute the median od the column\n",
    "#     df[column].fillna(median, inplace=True) # replace nan value with the median\n",
    "#     value_for_fill_nan[column] = median"
   ]
  },
  {
   "cell_type": "code",
   "execution_count": null,
   "metadata": {},
   "outputs": [],
   "source": []
  }
 ],
 "metadata": {
  "kernelspec": {
   "display_name": "Python 3",
   "language": "python",
   "name": "python3"
  },
  "language_info": {
   "codemirror_mode": {
    "name": "ipython",
    "version": 3
   },
   "file_extension": ".py",
   "mimetype": "text/x-python",
   "name": "python",
   "nbconvert_exporter": "python",
   "pygments_lexer": "ipython3",
   "version": "3.7.3"
  }
 },
 "nbformat": 4,
 "nbformat_minor": 2
}
