{
 "cells": [
  {
   "cell_type": "code",
   "execution_count": 11,
   "metadata": {},
   "outputs": [],
   "source": [
    "import os\n",
    "import sys\n",
    "import pandas as pd\n",
    "import csv\n",
    "import sklearn\n",
    "import numpy as np\n",
    "import matplotlib.pyplot as plt\n",
    "import seaborn as sns\n",
    "import math"
   ]
  },
  {
   "cell_type": "code",
   "execution_count": 12,
   "metadata": {},
   "outputs": [],
   "source": [
    "from xgboost import XGBRegressor,plot_importance\n",
    "from sklearn.model_selection import train_test_split, GridSearchCV, StratifiedKFold\n",
    "from sklearn.metrics import accuracy_score, mean_squared_error\n",
    "from sklearn.preprocessing import Normalizer\n",
    "import xgboost as xgb"
   ]
  },
  {
   "cell_type": "code",
   "execution_count": 13,
   "metadata": {},
   "outputs": [],
   "source": [
    "from keras.callbacks import ModelCheckpoint,CSVLogger\n",
    "from keras.models import Sequential\n",
    "from keras.layers import Dense, Activation, Flatten"
   ]
  },
  {
   "cell_type": "code",
   "execution_count": 14,
   "metadata": {},
   "outputs": [],
   "source": [
    "from matplotlib import pyplot\n",
    "%matplotlib inline"
   ]
  },
  {
   "cell_type": "code",
   "execution_count": 15,
   "metadata": {},
   "outputs": [],
   "source": [
    "year = pd.read_csv(\"../11_hour_merged_data.csv\")\n",
    "X = year.drop(columns=['GHI'])\n",
    "Y = year.pop('GHI')\n",
    "\n",
    "transformer = Normalizer().fit(X)\n",
    "X_norm = transformer.transform(X)\n",
    "\n",
    "\n",
    "# print(transformer)\n",
    "# print(X_norm)\n",
    "\n",
    "seed = 7\n",
    "test_size = 0.33\n",
    "X_train, X_test, y_train, y_test = train_test_split(X_norm, Y, test_size=test_size, random_state=seed)"
   ]
  },
  {
   "cell_type": "markdown",
   "metadata": {},
   "source": [
    "### Checking for the number of hidden nodes and number of hidden layers in neural network\n",
    "\n"
   ]
  },
  {
   "cell_type": "code",
   "execution_count": 16,
   "metadata": {},
   "outputs": [],
   "source": [
    "# NN_model_1, NN_model_2, NN_model_3, NN_model_4, NN_model_5, NN_model_6, NN_model_7, NN_model_8, NN_model_9, NN_model_10 = Sequential()\n",
    "# models = [NN_model_1, NN_model_2, NN_model_3, NN_model_4, NN_model_5, NN_model_6, NN_model_7, NN_model_8, NN_model_9, NN_model_10]\n",
    "\n",
    "# for counter, model in enumerate(models):\n",
    "#     model.add(Dense(20, kernel_initializer='normal', input_dim = X.shape[1], activation='relu'))\n",
    "#     if counter + 1 == 2:\n",
    "#         model.add(Dense(40,kernel_initializer='normal', activation='relu'))\n",
    "#     if counter + 1 == 3:\n",
    "#         model.add(Dense(60,kernel_initializer='normal', activation='relu'))\n",
    "#     models.add(Dense(1))\n",
    "    "
   ]
  },
  {
   "cell_type": "code",
   "execution_count": 17,
   "metadata": {},
   "outputs": [],
   "source": [
    "NN_model_1 = Sequential()\n",
    "\n",
    "# The Input Layer :\n",
    "NN_model_1.add(Dense(32, kernel_initializer='normal',input_dim = X.shape[1], activation='relu'))\n",
    "\n",
    "# The Hidden Layers :\n",
    "NN_model_1.add(Dense(64, kernel_initializer='normal',activation='relu'))\n",
    "NN_model_1.add(Dense(128, kernel_initializer='normal',activation='relu'))\n",
    "NN_model_1.add(Dense(256, kernel_initializer='normal',activation='relu'))\n",
    "NN_model_1.add(Dense(256, kernel_initializer='normal',activation='relu'))\n",
    "\n",
    "# The Output Layer :\n",
    "NN_model_1.add(Dense(1, kernel_initializer='normal',activation='linear'))\n",
    "\n"
   ]
  },
  {
   "cell_type": "code",
   "execution_count": 19,
   "metadata": {
    "scrolled": false
   },
   "outputs": [],
   "source": [
    "# Compile the network :\n",
    "model.compile(loss='mean_squared_error', optimizer='adam', metrics=['mse'])\n",
    "csv_logger = CSVLogger('NN_model.log')\n",
    "history = model.fit(X_norm, Y, verbose=0, epochs=500, batch_size=32, validation_split = 0.2, callbacks=[csv_logger])"
   ]
  },
  {
   "cell_type": "code",
   "execution_count": null,
   "metadata": {},
   "outputs": [],
   "source": [
    "print(history.history.keys())\n",
    "# \"Loss\"\n",
    "plt.plot(history.history['loss'])\n",
    "plt.plot(history.history['val_loss'])\n",
    "plt.title('model loss')\n",
    "plt.ylabel('loss')\n",
    "plt.xlabel('epoch')\n",
    "plt.legend(['train', 'validation'], loc='upper left')\n",
    "plt.show()"
   ]
  },
  {
   "cell_type": "code",
   "execution_count": null,
   "metadata": {},
   "outputs": [],
   "source": []
  },
  {
   "cell_type": "code",
   "execution_count": null,
   "metadata": {},
   "outputs": [],
   "source": []
  }
 ],
 "metadata": {
  "kernelspec": {
   "display_name": "Python 3",
   "language": "python",
   "name": "python3"
  },
  "language_info": {
   "codemirror_mode": {
    "name": "ipython",
    "version": 3
   },
   "file_extension": ".py",
   "mimetype": "text/x-python",
   "name": "python",
   "nbconvert_exporter": "python",
   "pygments_lexer": "ipython3",
   "version": "3.6.7"
  }
 },
 "nbformat": 4,
 "nbformat_minor": 2
}
