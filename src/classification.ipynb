{
 "cells": [
  {
   "cell_type": "code",
   "execution_count": 1,
   "metadata": {},
   "outputs": [],
   "source": [
    "import os\n",
    "import sys\n",
    "import pandas as pd\n",
    "import csv\n",
    "import sklearn\n",
    "import numpy as np\n",
    "import matplotlib.pyplot as plt\n",
    "import seaborn as sns"
   ]
  },
  {
   "cell_type": "code",
   "execution_count": 2,
   "metadata": {},
   "outputs": [],
   "source": [
    "from xgboost import XGBClassifier\n",
    "from sklearn.model_selection import train_test_split\n",
    "from sklearn.metrics import accuracy_score, mean_squared_error\n",
    "from sklearn.preprocessing import Normalizer"
   ]
  },
  {
   "cell_type": "code",
   "execution_count": 3,
   "metadata": {},
   "outputs": [],
   "source": [
    "data_folder = '../data'\n",
    "data_files = os.listdir(data_folder)"
   ]
  },
  {
   "cell_type": "code",
   "execution_count": 4,
   "metadata": {},
   "outputs": [
    {
     "data": {
      "text/html": [
       "<div>\n",
       "<style scoped>\n",
       "    .dataframe tbody tr th:only-of-type {\n",
       "        vertical-align: middle;\n",
       "    }\n",
       "\n",
       "    .dataframe tbody tr th {\n",
       "        vertical-align: top;\n",
       "    }\n",
       "\n",
       "    .dataframe thead th {\n",
       "        text-align: right;\n",
       "    }\n",
       "</style>\n",
       "<table border=\"1\" class=\"dataframe\">\n",
       "  <thead>\n",
       "    <tr style=\"text-align: right;\">\n",
       "      <th></th>\n",
       "      <th>Source</th>\n",
       "      <th>Location ID</th>\n",
       "      <th>City</th>\n",
       "      <th>State</th>\n",
       "      <th>Country</th>\n",
       "      <th>Latitude</th>\n",
       "      <th>Longitude</th>\n",
       "      <th>Time Zone</th>\n",
       "      <th>Elevation</th>\n",
       "      <th>Local Time Zone</th>\n",
       "      <th>...</th>\n",
       "      <th>Wind Direction Units</th>\n",
       "      <th>Wind Speed</th>\n",
       "      <th>Snow Depth Units</th>\n",
       "      <th>Fill Flag 0</th>\n",
       "      <th>Fill Flag 1</th>\n",
       "      <th>Fill Flag 2</th>\n",
       "      <th>Fill Flag 3</th>\n",
       "      <th>Fill Flag 4</th>\n",
       "      <th>Fill Flag 5</th>\n",
       "      <th>Version</th>\n",
       "    </tr>\n",
       "  </thead>\n",
       "  <tbody>\n",
       "    <tr>\n",
       "      <th>0</th>\n",
       "      <td>SUNY</td>\n",
       "      <td>22306</td>\n",
       "      <td>-</td>\n",
       "      <td>-</td>\n",
       "      <td>India</td>\n",
       "      <td>24.65</td>\n",
       "      <td>73.75</td>\n",
       "      <td>5.5</td>\n",
       "      <td>0</td>\n",
       "      <td>5.5</td>\n",
       "      <td>...</td>\n",
       "      <td>Degrees</td>\n",
       "      <td>m/s</td>\n",
       "      <td>m</td>\n",
       "      <td>NaN</td>\n",
       "      <td>Missing Image</td>\n",
       "      <td>Low Irradiance</td>\n",
       "      <td>Exceeds Clearsky</td>\n",
       "      <td>Missing CLoud Properties</td>\n",
       "      <td>Rayleigh Violation</td>\n",
       "      <td>unknown</td>\n",
       "    </tr>\n",
       "    <tr>\n",
       "      <th>1</th>\n",
       "      <td>Year</td>\n",
       "      <td>Month</td>\n",
       "      <td>Day</td>\n",
       "      <td>Hour</td>\n",
       "      <td>Minute</td>\n",
       "      <td>DHI</td>\n",
       "      <td>DNI</td>\n",
       "      <td>GHI</td>\n",
       "      <td>Clearsky DHI</td>\n",
       "      <td>Clearsky DNI</td>\n",
       "      <td>...</td>\n",
       "      <td>NaN</td>\n",
       "      <td>NaN</td>\n",
       "      <td>NaN</td>\n",
       "      <td>NaN</td>\n",
       "      <td>NaN</td>\n",
       "      <td>NaN</td>\n",
       "      <td>NaN</td>\n",
       "      <td>NaN</td>\n",
       "      <td>NaN</td>\n",
       "      <td>NaN</td>\n",
       "    </tr>\n",
       "    <tr>\n",
       "      <th>2</th>\n",
       "      <td>2014</td>\n",
       "      <td>1</td>\n",
       "      <td>1</td>\n",
       "      <td>0</td>\n",
       "      <td>30</td>\n",
       "      <td>0</td>\n",
       "      <td>0</td>\n",
       "      <td>0</td>\n",
       "      <td>0</td>\n",
       "      <td>0</td>\n",
       "      <td>...</td>\n",
       "      <td>NaN</td>\n",
       "      <td>NaN</td>\n",
       "      <td>NaN</td>\n",
       "      <td>NaN</td>\n",
       "      <td>NaN</td>\n",
       "      <td>NaN</td>\n",
       "      <td>NaN</td>\n",
       "      <td>NaN</td>\n",
       "      <td>NaN</td>\n",
       "      <td>NaN</td>\n",
       "    </tr>\n",
       "    <tr>\n",
       "      <th>3</th>\n",
       "      <td>2014</td>\n",
       "      <td>1</td>\n",
       "      <td>1</td>\n",
       "      <td>1</td>\n",
       "      <td>30</td>\n",
       "      <td>0</td>\n",
       "      <td>0</td>\n",
       "      <td>0</td>\n",
       "      <td>0</td>\n",
       "      <td>0</td>\n",
       "      <td>...</td>\n",
       "      <td>NaN</td>\n",
       "      <td>NaN</td>\n",
       "      <td>NaN</td>\n",
       "      <td>NaN</td>\n",
       "      <td>NaN</td>\n",
       "      <td>NaN</td>\n",
       "      <td>NaN</td>\n",
       "      <td>NaN</td>\n",
       "      <td>NaN</td>\n",
       "      <td>NaN</td>\n",
       "    </tr>\n",
       "    <tr>\n",
       "      <th>4</th>\n",
       "      <td>2014</td>\n",
       "      <td>1</td>\n",
       "      <td>1</td>\n",
       "      <td>2</td>\n",
       "      <td>30</td>\n",
       "      <td>0</td>\n",
       "      <td>0</td>\n",
       "      <td>0</td>\n",
       "      <td>0</td>\n",
       "      <td>0</td>\n",
       "      <td>...</td>\n",
       "      <td>NaN</td>\n",
       "      <td>NaN</td>\n",
       "      <td>NaN</td>\n",
       "      <td>NaN</td>\n",
       "      <td>NaN</td>\n",
       "      <td>NaN</td>\n",
       "      <td>NaN</td>\n",
       "      <td>NaN</td>\n",
       "      <td>NaN</td>\n",
       "      <td>NaN</td>\n",
       "    </tr>\n",
       "  </tbody>\n",
       "</table>\n",
       "<p>5 rows × 35 columns</p>\n",
       "</div>"
      ],
      "text/plain": [
       "  Source Location ID City State Country Latitude Longitude Time Zone  \\\n",
       "0   SUNY       22306    -     -   India    24.65     73.75       5.5   \n",
       "1   Year       Month  Day  Hour  Minute      DHI       DNI       GHI   \n",
       "2   2014           1    1     0      30        0         0         0   \n",
       "3   2014           1    1     1      30        0         0         0   \n",
       "4   2014           1    1     2      30        0         0         0   \n",
       "\n",
       "      Elevation Local Time Zone  ... Wind Direction Units Wind Speed  \\\n",
       "0             0             5.5  ...              Degrees        m/s   \n",
       "1  Clearsky DHI    Clearsky DNI  ...                  NaN        NaN   \n",
       "2             0               0  ...                  NaN        NaN   \n",
       "3             0               0  ...                  NaN        NaN   \n",
       "4             0               0  ...                  NaN        NaN   \n",
       "\n",
       "  Snow Depth Units Fill Flag 0    Fill Flag 1     Fill Flag 2  \\\n",
       "0                m         NaN  Missing Image  Low Irradiance   \n",
       "1              NaN         NaN            NaN             NaN   \n",
       "2              NaN         NaN            NaN             NaN   \n",
       "3              NaN         NaN            NaN             NaN   \n",
       "4              NaN         NaN            NaN             NaN   \n",
       "\n",
       "        Fill Flag 3               Fill Flag 4         Fill Flag 5  Version  \n",
       "0  Exceeds Clearsky  Missing CLoud Properties  Rayleigh Violation  unknown  \n",
       "1               NaN                       NaN                 NaN      NaN  \n",
       "2               NaN                       NaN                 NaN      NaN  \n",
       "3               NaN                       NaN                 NaN      NaN  \n",
       "4               NaN                       NaN                 NaN      NaN  \n",
       "\n",
       "[5 rows x 35 columns]"
      ]
     },
     "execution_count": 4,
     "metadata": {},
     "output_type": "execute_result"
    }
   ],
   "source": [
    "year_2014 = pd.read_csv(data_folder+'/'+data_files[0])\n",
    "year_2014.head()"
   ]
  },
  {
   "cell_type": "code",
   "execution_count": 6,
   "metadata": {},
   "outputs": [],
   "source": [
    "new_columns = year_2014.iloc[1]\n",
    "year_all = year_2014[2:]\n",
    "year_all.columns =new_columns\n",
    "year = year_all.loc[:, year_all.columns.notnull()]\n",
    "\n",
    "# for counter,i in enumerate(new_columns):\n",
    "#     print(i)\n",
    "\n",
    "\n",
    "year = year.drop(columns=['Year','Month','Day','Minute','Hour','DHI','DNI','Clearsky DHI','Clearsky DNI','Fill Flag'])"
   ]
  },
  {
   "cell_type": "code",
   "execution_count": 7,
   "metadata": {},
   "outputs": [
    {
     "name": "stdout",
     "output_type": "stream",
     "text": [
      "<class 'pandas.core.frame.DataFrame'>\n",
      "RangeIndex: 8760 entries, 2 to 8761\n",
      "Data columns (total 11 columns):\n",
      "GHI                   8760 non-null float64\n",
      "Clearsky GHI          8760 non-null float64\n",
      "Dew Point             8760 non-null float64\n",
      "Temperature           8760 non-null float64\n",
      "Pressure              8760 non-null float64\n",
      "Relative Humidity     8760 non-null float64\n",
      "Solar Zenith Angle    8760 non-null float64\n",
      "Precipitable Water    8760 non-null float64\n",
      "Snow Depth            8760 non-null float64\n",
      "Wind Direction        8760 non-null float64\n",
      "Wind Speed            8760 non-null float64\n",
      "dtypes: float64(11)\n",
      "memory usage: 752.9 KB\n"
     ]
    }
   ],
   "source": [
    "year = year.astype('float64')\n",
    "year.info()"
   ]
  },
  {
   "cell_type": "code",
   "execution_count": 9,
   "metadata": {},
   "outputs": [
    {
     "name": "stdout",
     "output_type": "stream",
     "text": [
      "Normalizer(copy=True, norm='l2')\n",
      "[[0.         0.00408625 0.0130263  ... 0.         0.07548294 0.00452638]\n",
      " [0.         0.00613678 0.01247493 ... 0.         0.07681474 0.00455494]\n",
      " [0.         0.00717292 0.01209779 ... 0.         0.076098   0.0044426 ]\n",
      " ...\n",
      " [0.         0.         0.01546334 ... 0.         0.06476746 0.00437793]\n",
      " [0.         0.00102765 0.01465211 ... 0.         0.06889262 0.00445176]\n",
      " [0.         0.00204918 0.01382877 ... 0.         0.07267697 0.00448728]]\n"
     ]
    }
   ],
   "source": [
    "X = year.drop(columns=['GHI'])\n",
    "Y = year.pop('GHI')\n",
    "\n",
    "transformer = Normalizer().fit(X)\n",
    "X_norm = transformer.transform(X)\n",
    "\n",
    "\n",
    "print(transformer)\n",
    "print(X_norm)\n",
    "\n",
    "seed = 7\n",
    "test_size = 0.33\n",
    "X_train, X_test, y_train, y_test = train_test_split(X, Y, test_size=test_size, random_state=seed)\n",
    "model = XGBClassifier()"
   ]
  },
  {
   "cell_type": "code",
   "execution_count": 10,
   "metadata": {},
   "outputs": [
    {
     "data": {
      "text/plain": [
       "XGBClassifier(base_score=0.5, booster='gbtree', colsample_bylevel=1,\n",
       "       colsample_bytree=1, gamma=0, learning_rate=0.1, max_delta_step=0,\n",
       "       max_depth=3, min_child_weight=1, missing=None, n_estimators=100,\n",
       "       n_jobs=1, nthread=None, objective='multi:softprob', random_state=0,\n",
       "       reg_alpha=0, reg_lambda=1, scale_pos_weight=1, seed=None,\n",
       "       silent=True, subsample=1)"
      ]
     },
     "execution_count": 10,
     "metadata": {},
     "output_type": "execute_result"
    }
   ],
   "source": [
    "model.fit(X_train, y_train)"
   ]
  },
  {
   "cell_type": "code",
   "execution_count": 11,
   "metadata": {},
   "outputs": [],
   "source": [
    "y_pred = model.predict(X_test)\n",
    "\n"
   ]
  },
  {
   "cell_type": "code",
   "execution_count": null,
   "metadata": {},
   "outputs": [],
   "source": [
    "from collections import Counter\n",
    "\n",
    "predictions = [value for value in y_pred]\n",
    "print(len(y_test))\n",
    "# predictions = [round(value) for value in y_pred]\n",
    "accuracy = accuracy_score(y_test, predictions)\n",
    "print(\"Accuracy: %.2f%%\" % (accuracy * 100.0))"
   ]
  },
  {
   "cell_type": "code",
   "execution_count": null,
   "metadata": {},
   "outputs": [],
   "source": [
    "mean_squared_error(y_true, y_pred)"
   ]
  },
  {
   "cell_type": "code",
   "execution_count": 12,
   "metadata": {},
   "outputs": [
    {
     "name": "stdout",
     "output_type": "stream",
     "text": [
      "[156. 853.   0. ... 262. 396. 663.]\n"
     ]
    }
   ],
   "source": [
    "print(y_pred)"
   ]
  },
  {
   "cell_type": "code",
   "execution_count": 15,
   "metadata": {},
   "outputs": [],
   "source": [
    "y_for_rmse = []\n",
    "for i in y_test:\n",
    "    y_for_rmse.append(i)"
   ]
  },
  {
   "cell_type": "code",
   "execution_count": 17,
   "metadata": {},
   "outputs": [
    {
     "data": {
      "text/plain": [
       "8050.114147353856"
      ]
     },
     "execution_count": 17,
     "metadata": {},
     "output_type": "execute_result"
    }
   ],
   "source": [
    "mean_squared_error(y_for_rmse, y_pred)"
   ]
  },
  {
   "cell_type": "code",
   "execution_count": null,
   "metadata": {},
   "outputs": [],
   "source": []
  }
 ],
 "metadata": {
  "kernelspec": {
   "display_name": "Python 3",
   "language": "python",
   "name": "python3"
  },
  "language_info": {
   "codemirror_mode": {
    "name": "ipython",
    "version": 3
   },
   "file_extension": ".py",
   "mimetype": "text/x-python",
   "name": "python",
   "nbconvert_exporter": "python",
   "pygments_lexer": "ipython3",
   "version": "3.6.7"
  }
 },
 "nbformat": 4,
 "nbformat_minor": 2
}
