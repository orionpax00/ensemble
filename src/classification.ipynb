{
 "cells": [
  {
   "cell_type": "code",
   "execution_count": 114,
   "metadata": {},
   "outputs": [],
   "source": [
    "import os\n",
    "import sys\n",
    "import pandas as pd\n",
    "import csv\n",
    "import sklearn\n",
    "import numpy as np\n",
    "import matplotlib.pyplot as plt\n",
    "import seaborn as sns\n",
    "import math"
   ]
  },
  {
   "cell_type": "code",
   "execution_count": 154,
   "metadata": {},
   "outputs": [],
   "source": [
    "from xgboost import XGBRegressor,plot_importance\n",
    "from sklearn.model_selection import train_test_split, GridSearchCV, StratifiedKFold\n",
    "from sklearn.metrics import accuracy_score, mean_squared_error\n",
    "from sklearn.preprocessing import Normalizer"
   ]
  },
  {
   "cell_type": "code",
   "execution_count": 70,
   "metadata": {},
   "outputs": [],
   "source": [
    "from matplotlib import pyplot"
   ]
  },
  {
   "cell_type": "code",
   "execution_count": 62,
   "metadata": {},
   "outputs": [],
   "source": [
    "data_folder = '../data'\n",
    "data_files = os.listdir(data_folder)"
   ]
  },
  {
   "cell_type": "code",
   "execution_count": 63,
   "metadata": {},
   "outputs": [
    {
     "data": {
      "text/html": [
       "<div>\n",
       "<style scoped>\n",
       "    .dataframe tbody tr th:only-of-type {\n",
       "        vertical-align: middle;\n",
       "    }\n",
       "\n",
       "    .dataframe tbody tr th {\n",
       "        vertical-align: top;\n",
       "    }\n",
       "\n",
       "    .dataframe thead th {\n",
       "        text-align: right;\n",
       "    }\n",
       "</style>\n",
       "<table border=\"1\" class=\"dataframe\">\n",
       "  <thead>\n",
       "    <tr style=\"text-align: right;\">\n",
       "      <th></th>\n",
       "      <th>Source</th>\n",
       "      <th>Location ID</th>\n",
       "      <th>City</th>\n",
       "      <th>State</th>\n",
       "      <th>Country</th>\n",
       "      <th>Latitude</th>\n",
       "      <th>Longitude</th>\n",
       "      <th>Time Zone</th>\n",
       "      <th>Elevation</th>\n",
       "      <th>Local Time Zone</th>\n",
       "      <th>...</th>\n",
       "      <th>Wind Direction Units</th>\n",
       "      <th>Wind Speed</th>\n",
       "      <th>Snow Depth Units</th>\n",
       "      <th>Fill Flag 0</th>\n",
       "      <th>Fill Flag 1</th>\n",
       "      <th>Fill Flag 2</th>\n",
       "      <th>Fill Flag 3</th>\n",
       "      <th>Fill Flag 4</th>\n",
       "      <th>Fill Flag 5</th>\n",
       "      <th>Version</th>\n",
       "    </tr>\n",
       "  </thead>\n",
       "  <tbody>\n",
       "    <tr>\n",
       "      <th>0</th>\n",
       "      <td>SUNY</td>\n",
       "      <td>22306</td>\n",
       "      <td>-</td>\n",
       "      <td>-</td>\n",
       "      <td>India</td>\n",
       "      <td>24.65</td>\n",
       "      <td>73.75</td>\n",
       "      <td>5.5</td>\n",
       "      <td>0</td>\n",
       "      <td>5.5</td>\n",
       "      <td>...</td>\n",
       "      <td>Degrees</td>\n",
       "      <td>m/s</td>\n",
       "      <td>m</td>\n",
       "      <td>NaN</td>\n",
       "      <td>Missing Image</td>\n",
       "      <td>Low Irradiance</td>\n",
       "      <td>Exceeds Clearsky</td>\n",
       "      <td>Missing CLoud Properties</td>\n",
       "      <td>Rayleigh Violation</td>\n",
       "      <td>unknown</td>\n",
       "    </tr>\n",
       "    <tr>\n",
       "      <th>1</th>\n",
       "      <td>Year</td>\n",
       "      <td>Month</td>\n",
       "      <td>Day</td>\n",
       "      <td>Hour</td>\n",
       "      <td>Minute</td>\n",
       "      <td>DHI</td>\n",
       "      <td>DNI</td>\n",
       "      <td>GHI</td>\n",
       "      <td>Clearsky DHI</td>\n",
       "      <td>Clearsky DNI</td>\n",
       "      <td>...</td>\n",
       "      <td>NaN</td>\n",
       "      <td>NaN</td>\n",
       "      <td>NaN</td>\n",
       "      <td>NaN</td>\n",
       "      <td>NaN</td>\n",
       "      <td>NaN</td>\n",
       "      <td>NaN</td>\n",
       "      <td>NaN</td>\n",
       "      <td>NaN</td>\n",
       "      <td>NaN</td>\n",
       "    </tr>\n",
       "    <tr>\n",
       "      <th>2</th>\n",
       "      <td>2014</td>\n",
       "      <td>1</td>\n",
       "      <td>1</td>\n",
       "      <td>0</td>\n",
       "      <td>30</td>\n",
       "      <td>0</td>\n",
       "      <td>0</td>\n",
       "      <td>0</td>\n",
       "      <td>0</td>\n",
       "      <td>0</td>\n",
       "      <td>...</td>\n",
       "      <td>NaN</td>\n",
       "      <td>NaN</td>\n",
       "      <td>NaN</td>\n",
       "      <td>NaN</td>\n",
       "      <td>NaN</td>\n",
       "      <td>NaN</td>\n",
       "      <td>NaN</td>\n",
       "      <td>NaN</td>\n",
       "      <td>NaN</td>\n",
       "      <td>NaN</td>\n",
       "    </tr>\n",
       "    <tr>\n",
       "      <th>3</th>\n",
       "      <td>2014</td>\n",
       "      <td>1</td>\n",
       "      <td>1</td>\n",
       "      <td>1</td>\n",
       "      <td>30</td>\n",
       "      <td>0</td>\n",
       "      <td>0</td>\n",
       "      <td>0</td>\n",
       "      <td>0</td>\n",
       "      <td>0</td>\n",
       "      <td>...</td>\n",
       "      <td>NaN</td>\n",
       "      <td>NaN</td>\n",
       "      <td>NaN</td>\n",
       "      <td>NaN</td>\n",
       "      <td>NaN</td>\n",
       "      <td>NaN</td>\n",
       "      <td>NaN</td>\n",
       "      <td>NaN</td>\n",
       "      <td>NaN</td>\n",
       "      <td>NaN</td>\n",
       "    </tr>\n",
       "    <tr>\n",
       "      <th>4</th>\n",
       "      <td>2014</td>\n",
       "      <td>1</td>\n",
       "      <td>1</td>\n",
       "      <td>2</td>\n",
       "      <td>30</td>\n",
       "      <td>0</td>\n",
       "      <td>0</td>\n",
       "      <td>0</td>\n",
       "      <td>0</td>\n",
       "      <td>0</td>\n",
       "      <td>...</td>\n",
       "      <td>NaN</td>\n",
       "      <td>NaN</td>\n",
       "      <td>NaN</td>\n",
       "      <td>NaN</td>\n",
       "      <td>NaN</td>\n",
       "      <td>NaN</td>\n",
       "      <td>NaN</td>\n",
       "      <td>NaN</td>\n",
       "      <td>NaN</td>\n",
       "      <td>NaN</td>\n",
       "    </tr>\n",
       "  </tbody>\n",
       "</table>\n",
       "<p>5 rows × 35 columns</p>\n",
       "</div>"
      ],
      "text/plain": [
       "  Source Location ID City State Country Latitude Longitude Time Zone  \\\n",
       "0   SUNY       22306    -     -   India    24.65     73.75       5.5   \n",
       "1   Year       Month  Day  Hour  Minute      DHI       DNI       GHI   \n",
       "2   2014           1    1     0      30        0         0         0   \n",
       "3   2014           1    1     1      30        0         0         0   \n",
       "4   2014           1    1     2      30        0         0         0   \n",
       "\n",
       "      Elevation Local Time Zone  ... Wind Direction Units Wind Speed  \\\n",
       "0             0             5.5  ...              Degrees        m/s   \n",
       "1  Clearsky DHI    Clearsky DNI  ...                  NaN        NaN   \n",
       "2             0               0  ...                  NaN        NaN   \n",
       "3             0               0  ...                  NaN        NaN   \n",
       "4             0               0  ...                  NaN        NaN   \n",
       "\n",
       "  Snow Depth Units Fill Flag 0    Fill Flag 1     Fill Flag 2  \\\n",
       "0                m         NaN  Missing Image  Low Irradiance   \n",
       "1              NaN         NaN            NaN             NaN   \n",
       "2              NaN         NaN            NaN             NaN   \n",
       "3              NaN         NaN            NaN             NaN   \n",
       "4              NaN         NaN            NaN             NaN   \n",
       "\n",
       "        Fill Flag 3               Fill Flag 4         Fill Flag 5  Version  \n",
       "0  Exceeds Clearsky  Missing CLoud Properties  Rayleigh Violation  unknown  \n",
       "1               NaN                       NaN                 NaN      NaN  \n",
       "2               NaN                       NaN                 NaN      NaN  \n",
       "3               NaN                       NaN                 NaN      NaN  \n",
       "4               NaN                       NaN                 NaN      NaN  \n",
       "\n",
       "[5 rows x 35 columns]"
      ]
     },
     "execution_count": 63,
     "metadata": {},
     "output_type": "execute_result"
    }
   ],
   "source": [
    "year_2014 = pd.read_csv(data_folder+'/'+data_files[0])\n",
    "year_2014.head()"
   ]
  },
  {
   "cell_type": "code",
   "execution_count": 64,
   "metadata": {},
   "outputs": [],
   "source": [
    "new_columns = year_2014.iloc[1]\n",
    "year_all = year_2014[2:]\n",
    "year_all.columns =new_columns\n",
    "year = year_all.loc[:, year_all.columns.notnull()]\n",
    "\n",
    "# for counter,i in enumerate(new_columns):\n",
    "#     print(i)\n",
    "\n",
    "\n",
    "year = year.drop(columns=['Year','Month','Day','Minute','DHI','DNI','Clearsky DHI','Clearsky DNI','Fill Flag','Dew Point','Clearsky GHI','Solar Zenith Angle','Wind Direction','Snow Depth','Precipitable Water'])"
   ]
  },
  {
   "cell_type": "code",
   "execution_count": 65,
   "metadata": {},
   "outputs": [
    {
     "name": "stdout",
     "output_type": "stream",
     "text": [
      "<class 'pandas.core.frame.DataFrame'>\n",
      "RangeIndex: 8760 entries, 2 to 8761\n",
      "Data columns (total 6 columns):\n",
      "Hour                 8760 non-null float64\n",
      "GHI                  8760 non-null float64\n",
      "Temperature          8760 non-null float64\n",
      "Pressure             8760 non-null float64\n",
      "Relative Humidity    8760 non-null float64\n",
      "Wind Speed           8760 non-null float64\n",
      "dtypes: float64(6)\n",
      "memory usage: 410.7 KB\n"
     ]
    }
   ],
   "source": [
    "year = year.astype('float64')\n",
    "year.info()"
   ]
  },
  {
   "cell_type": "code",
   "execution_count": 66,
   "metadata": {},
   "outputs": [
    {
     "name": "stdout",
     "output_type": "stream",
     "text": [
      "Normalizer(copy=True, norm='l2')\n",
      "[[0.         0.01328535 0.99804736 0.06085759 0.00461639]\n",
      " [0.00104144 0.0127023  0.99744886 0.07008445 0.00463795]\n",
      " [0.0020818  0.01228901 0.997055   0.07553548 0.00451282]\n",
      " ...\n",
      " [0.02189238 0.01564988 0.99889576 0.03825496 0.00443074]\n",
      " [0.02293431 0.01486344 0.99867655 0.04333415 0.00451597]\n",
      " [0.02396545 0.01406343 0.99830212 0.05098941 0.00456342]]\n"
     ]
    }
   ],
   "source": [
    "X = year.drop(columns=['GHI'])\n",
    "Y = year.pop('GHI')\n",
    "\n",
    "transformer = Normalizer().fit(X)\n",
    "X_norm = transformer.transform(X)\n",
    "\n",
    "\n",
    "print(transformer)\n",
    "print(X_norm)\n",
    "\n",
    "seed = 7\n",
    "test_size = 0.33\n",
    "X_train, X_test, y_train, y_test = train_test_split(X, Y, test_size=test_size, random_state=seed)\n",
    "model = XGBRegressor()"
   ]
  },
  {
   "cell_type": "code",
   "execution_count": 68,
   "metadata": {},
   "outputs": [
    {
     "name": "stderr",
     "output_type": "stream",
     "text": [
      "/home/primus/durgeshapi/ensemble/env/lib/python3.6/site-packages/sklearn/model_selection/_split.py:652: Warning: The least populated class in y has only 1 members, which is too few. The minimum number of members in any class cannot be less than n_splits=10.\n",
      "  % (min_groups, self.n_splits)), Warning)\n",
      "/home/primus/durgeshapi/ensemble/env/lib/python3.6/site-packages/sklearn/model_selection/_search.py:841: DeprecationWarning: The default of the `iid` parameter will change from True to False in version 0.22 and will be removed in 0.24. This will change numeric results when test-set sizes are unequal.\n",
      "  DeprecationWarning)\n",
      "/home/primus/durgeshapi/ensemble/env/lib/python3.6/site-packages/xgboost/core.py:587: FutureWarning: Series.base is deprecated and will be removed in a future version\n",
      "  if getattr(data, 'base', None) is not None and \\\n"
     ]
    }
   ],
   "source": [
    "learning_rate = [0.0001, 0.001, 0.01, 0.1, 0.2, 0.3]\n",
    "param_grid = dict(learning_rate=learning_rate)\n",
    "kfold = StratifiedKFold(n_splits=10, shuffle=True, random_state=7)\n",
    "grid_search = GridSearchCV(model, param_grid, scoring=\"neg_mean_squared_error\", n_jobs=-1, cv=kfold)\n",
    "grid_result = grid_search.fit(X_train, y_train,verbose=True)"
   ]
  },
  {
   "cell_type": "code",
   "execution_count": 72,
   "metadata": {},
   "outputs": [
    {
     "name": "stdout",
     "output_type": "stream",
     "text": [
      "Best: -5451.800177 using {'learning_rate': 0.2}\n",
      "-153289.297746 (86998.884893) with: {'learning_rate': 0.0001}\n",
      "-131936.229652 (74875.476845) with: {'learning_rate': 0.001}\n",
      "-33383.736877 (18911.020543) with: {'learning_rate': 0.01}\n",
      "-5570.953067 (3244.831898) with: {'learning_rate': 0.1}\n",
      "-5451.800177 (3143.821412) with: {'learning_rate': 0.2}\n",
      "-5541.556178 (3142.939617) with: {'learning_rate': 0.3}\n"
     ]
    },
    {
     "data": {
      "image/png": "[encoded data removed]",
      "text/plain": [
       "<Figure size 432x288 with 1 Axes>"
      ]
     },
     "metadata": {
      "needs_background": "light"
     },
     "output_type": "display_data"
    }
   ],
   "source": [
    "print(\"Best: %f using %s\" % (grid_result.best_score_, grid_result.best_params_))\n",
    "means = grid_result.cv_results_['mean_test_score']\n",
    "stds = grid_result.cv_results_['std_test_score']\n",
    "params = grid_result.cv_results_['params']\n",
    "for mean, stdev, param in zip(means, stds, params):\n",
    "\tprint(\"%f (%f) with: %r\" % (mean, stdev, param))\n",
    "# plot\n",
    "pyplot.errorbar(learning_rate, means, yerr=stds)\n",
    "pyplot.title(\"XGBoost learning_rate vs Log Loss\")\n",
    "pyplot.xlabel('learning_rate')\n",
    "pyplot.ylabel('RSME')\n",
    "pyplot.savefig('learning_rate.png')"
   ]
  },
  {
   "cell_type": "code",
   "execution_count": 87,
   "metadata": {},
   "outputs": [
    {
     "name": "stdout",
     "output_type": "stream",
     "text": [
      "Fitting 10 folds for each of 30 candidates, totalling 300 fits\n"
     ]
    },
    {
     "name": "stderr",
     "output_type": "stream",
     "text": [
      "/home/primus/durgeshapi/ensemble/env/lib/python3.6/site-packages/sklearn/model_selection/_split.py:652: Warning: The least populated class in y has only 1 members, which is too few. The minimum number of members in any class cannot be less than n_splits=10.\n",
      "  % (min_groups, self.n_splits)), Warning)\n",
      "[Parallel(n_jobs=-1)]: Using backend LokyBackend with 24 concurrent workers.\n",
      "[Parallel(n_jobs=-1)]: Done   2 tasks      | elapsed:    0.1s\n",
      "[Parallel(n_jobs=-1)]: Done 300 out of 300 | elapsed:   12.2s finished\n",
      "/home/primus/durgeshapi/ensemble/env/lib/python3.6/site-packages/sklearn/model_selection/_search.py:841: DeprecationWarning: The default of the `iid` parameter will change from True to False in version 0.22 and will be removed in 0.24. This will change numeric results when test-set sizes are unequal.\n",
      "  DeprecationWarning)\n",
      "/home/primus/durgeshapi/ensemble/env/lib/python3.6/site-packages/xgboost/core.py:587: FutureWarning: Series.base is deprecated and will be removed in a future version\n",
      "  if getattr(data, 'base', None) is not None and \\\n"
     ]
    }
   ],
   "source": [
    "n_estimators = [10, 20 , 50, 100, 150, 200]\n",
    "max_depth = [2, 4, 6, 8, 10]\n",
    "learning_rate = [0.2]\n",
    "param_grid = dict(max_depth=max_depth, n_estimators=n_estimators, learning_rate=learning_rate)\n",
    "\n",
    "\n",
    "kfold = StratifiedKFold(n_splits=10, shuffle=True, random_state=7)\n",
    "grid_search = GridSearchCV(model, param_grid, scoring=\"neg_mean_squared_error\", n_jobs=-1, cv=kfold,verbose=1)\n",
    "grid_result = grid_search.fit(X_train, y_train)"
   ]
  },
  {
   "cell_type": "code",
   "execution_count": 153,
   "metadata": {},
   "outputs": [
    {
     "ename": "NameError",
     "evalue": "name 'plot_importance' is not defined",
     "output_type": "error",
     "traceback": [
      "\u001b[0;31m---------------------------------------------------------------------------\u001b[0m",
      "\u001b[0;31mNameError\u001b[0m                                 Traceback (most recent call last)",
      "\u001b[0;32m<ipython-input-153-c5f0f8cf4d79>\u001b[0m in \u001b[0;36m<module>\u001b[0;34m\u001b[0m\n\u001b[0;32m----> 1\u001b[0;31m \u001b[0mplot_importance\u001b[0m\u001b[0;34m(\u001b[0m\u001b[0mmodel\u001b[0m\u001b[0;34m)\u001b[0m\u001b[0;34m\u001b[0m\u001b[0;34m\u001b[0m\u001b[0m\n\u001b[0m\u001b[1;32m      2\u001b[0m \u001b[0mplt\u001b[0m\u001b[0;34m.\u001b[0m\u001b[0mshow\u001b[0m\u001b[0;34m(\u001b[0m\u001b[0;34m)\u001b[0m\u001b[0;34m\u001b[0m\u001b[0;34m\u001b[0m\u001b[0m\n",
      "\u001b[0;31mNameError\u001b[0m: name 'plot_importance' is not defined"
     ]
    }
   ],
   "source": [
    "plot_importance(model)\n",
    "plt.show()"
   ]
  },
  {
   "cell_type": "code",
   "execution_count": 132,
   "metadata": {
    "scrolled": false
   },
   "outputs": [
    {
     "name": "stdout",
     "output_type": "stream",
     "text": [
      "--------------------------------------------------------------------\n",
      "Best: 69.701661 using {'learning_rate': 0.2, 'max_depth': 8, 'n_estimators': 20}\n",
      "--------------------------------------------------------------------\n",
      "123.202925 (7393.884103) with: {'learning_rate': 0.2, 'max_depth': 2, 'n_estimators': 10}\n",
      "86.318290 (3805.029673) with: {'learning_rate': 0.2, 'max_depth': 2, 'n_estimators': 20}\n",
      "78.539076 (3427.676185) with: {'learning_rate': 0.2, 'max_depth': 2, 'n_estimators': 50}\n",
      "76.722107 (3256.354318) with: {'learning_rate': 0.2, 'max_depth': 2, 'n_estimators': 100}\n",
      "75.916877 (3181.870558) with: {'learning_rate': 0.2, 'max_depth': 2, 'n_estimators': 150}\n",
      "75.513121 (3144.135219) with: {'learning_rate': 0.2, 'max_depth': 2, 'n_estimators': 200}\n",
      "93.334501 (4956.062973) with: {'learning_rate': 0.2, 'max_depth': 4, 'n_estimators': 10}\n",
      "75.290810 (3287.555886) with: {'learning_rate': 0.2, 'max_depth': 4, 'n_estimators': 20}\n",
      "71.812246 (3043.967425) with: {'learning_rate': 0.2, 'max_depth': 4, 'n_estimators': 50}\n",
      "71.714117 (3028.942193) with: {'learning_rate': 0.2, 'max_depth': 4, 'n_estimators': 100}\n",
      "71.549724 (3001.863698) with: {'learning_rate': 0.2, 'max_depth': 4, 'n_estimators': 150}\n",
      "71.827925 (2983.677733) with: {'learning_rate': 0.2, 'max_depth': 4, 'n_estimators': 200}\n",
      "86.425545 (4495.373279) with: {'learning_rate': 0.2, 'max_depth': 6, 'n_estimators': 10}\n",
      "71.220478 (3112.789556) with: {'learning_rate': 0.2, 'max_depth': 6, 'n_estimators': 20}\n",
      "70.646556 (3040.428183) with: {'learning_rate': 0.2, 'max_depth': 6, 'n_estimators': 50}\n",
      "71.471865 (3109.332770) with: {'learning_rate': 0.2, 'max_depth': 6, 'n_estimators': 100}\n",
      "72.111143 (3159.088773) with: {'learning_rate': 0.2, 'max_depth': 6, 'n_estimators': 150}\n",
      "72.423407 (3187.430574) with: {'learning_rate': 0.2, 'max_depth': 6, 'n_estimators': 200}\n",
      "83.807908 (4175.714815) with: {'learning_rate': 0.2, 'max_depth': 8, 'n_estimators': 10}\n",
      "69.701661 (2967.996243) with: {'learning_rate': 0.2, 'max_depth': 8, 'n_estimators': 20}\n",
      "69.882811 (2968.986861) with: {'learning_rate': 0.2, 'max_depth': 8, 'n_estimators': 50}\n",
      "70.692529 (3032.582576) with: {'learning_rate': 0.2, 'max_depth': 8, 'n_estimators': 100}\n",
      "71.018016 (3051.702717) with: {'learning_rate': 0.2, 'max_depth': 8, 'n_estimators': 150}\n",
      "71.129073 (3069.453974) with: {'learning_rate': 0.2, 'max_depth': 8, 'n_estimators': 200}\n",
      "85.941061 (4386.555324) with: {'learning_rate': 0.2, 'max_depth': 10, 'n_estimators': 10}\n",
      "72.511614 (3221.608824) with: {'learning_rate': 0.2, 'max_depth': 10, 'n_estimators': 20}\n",
      "72.387410 (3225.270672) with: {'learning_rate': 0.2, 'max_depth': 10, 'n_estimators': 50}\n",
      "72.755545 (3251.359245) with: {'learning_rate': 0.2, 'max_depth': 10, 'n_estimators': 100}\n",
      "72.889294 (3261.127624) with: {'learning_rate': 0.2, 'max_depth': 10, 'n_estimators': 150}\n",
      "72.923283 (3260.896716) with: {'learning_rate': 0.2, 'max_depth': 10, 'n_estimators': 200}\n",
      "{2: array([123.20292496,  86.31829036,  78.53907617,  76.72210747,\n",
      "        75.91687664,  75.51312147]), 4: array([93.33450074, 75.29081048, 71.81224607, 71.71411732, 71.54972388,\n",
      "       71.82792476]), 6: array([86.4255448 , 71.22047759, 70.64655627, 71.47186521, 72.11114311,\n",
      "       72.42340716]), 8: array([83.80790756, 69.70166119, 69.88281149, 70.69252875, 71.0180155 ,\n",
      "       71.12907262]), 10: array([85.9410606 , 72.51161436, 72.38740974, 72.75554538, 72.88929361,\n",
      "       72.92328252])}\n"
     ]
    }
   ],
   "source": [
    "print(\"--------------------------------------------------------------------\")\n",
    "print(\"Best: %f using %s\" % (math.sqrt(-grid_result.best_score_), grid_result.best_params_))\n",
    "print(\"--------------------------------------------------------------------\")\n",
    "means = grid_result.cv_results_['mean_test_score']\n",
    "stds = grid_result.cv_results_['std_test_score']\n",
    "params = grid_result.cv_results_['params']\n",
    "for mean, stdev, param in zip(means, stds, params):\n",
    "\tprint(\"%f (%f) with: %r\" % (math.sqrt(-mean), stdev, param))\n",
    "scores = [math.sqrt(-x) for x in grid_result.cv_results_['mean_test_score']]\n",
    "scores = np.array(scores).reshape(len(max_depth), len(n_estimators))\n",
    "%matplotlib notebook\n",
    "%matplotlib notebook\n",
    "score = {}\n",
    "for ind, i in enumerate(max_depth):\n",
    "    score[i] = scores[ind]\n",
    "print(score)"
   ]
  },
  {
   "cell_type": "code",
   "execution_count": 152,
   "metadata": {},
   "outputs": [
    {
     "data": {
      "text/plain": [
       "'/home/primus/durgeshapi/ensemble/src/rsme.html'"
      ]
     },
     "execution_count": 152,
     "metadata": {},
     "output_type": "execute_result"
    }
   ],
   "source": [
    "import numpy as np\n",
    "from bokeh.models import Label\n",
    "from bokeh.layouts import gridplot\n",
    "from bokeh.plotting import figure, save, output_file\n",
    "\n",
    "p1 = figure()\n",
    "p1.grid.grid_line_alpha=0.6\n",
    "p1.xaxis.axis_label = 'n_estimators'\n",
    "p1.yaxis.axis_label = 'RSME'\n",
    "\n",
    "p1.line(n_estimators, score[2] , color='#A6CEE3', legend=\"max_depth:2\")\n",
    "p1.circle(n_estimators, score[2], color='#A6CEE3', legend=\"max_depth:2\")\n",
    "p1.line(n_estimators, score[4] , color='#000000', legend=\"max_depth:4\")\n",
    "p1.circle(n_estimators, score[4], color='#000000', legend=\"max_depth:4\")\n",
    "p1.line(n_estimators, score[6] , color='#FFFF00', legend=\"max_depth:6\")\n",
    "p1.circle(n_estimators, score[6], color='#FFFF00', legend=\"max_depth:6\")\n",
    "p1.line(n_estimators, score[8] , color='#00FF00', legend=\"max_depth:8\")\n",
    "p1.circle(n_estimators, score[8], color='#00FF00', legend=\"max_depth:8\")\n",
    "p1.line(n_estimators, score[10] , color='#000080', legend=\"max_depth:10\")\n",
    "p1.circle(n_estimators, score[10], color='#000080', legend=\"max_depth:10\")\n",
    "\n",
    "output_file(\"rsme.html\", title=\"RSME Plots\")\n",
    "\n",
    "save(gridplot([[p1]], plot_width=900, plot_height=600))  # open a browser"
   ]
  },
  {
   "cell_type": "code",
   "execution_count": null,
   "metadata": {},
   "outputs": [],
   "source": []
  }
 ],
 "metadata": {
  "kernelspec": {
   "display_name": "Python 3",
   "language": "python",
   "name": "python3"
  },
  "language_info": {
   "codemirror_mode": {
    "name": "ipython",
    "version": 3
   },
   "file_extension": ".py",
   "mimetype": "text/x-python",
   "name": "python",
   "nbconvert_exporter": "python",
   "pygments_lexer": "ipython3",
   "version": "3.6.7"
  }
 },
 "nbformat": 4,
 "nbformat_minor": 2
}
