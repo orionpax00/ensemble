{
 "cells": [
  {
   "cell_type": "code",
   "execution_count": 1,
   "metadata": {},
   "outputs": [],
   "source": [
    "import pandas as pd\n",
    "import os"
   ]
  },
  {
   "cell_type": "code",
   "execution_count": 2,
   "metadata": {},
   "outputs": [],
   "source": [
    "data_folder = '../data'\n",
    "data_files = os.listdir(data_folder)\n",
    "four_year_data_files = []\n",
    "for file in data_files:\n",
    "    if file[-8:-4] == '2014' or file[-8:-4] == '2011' or file[-8:-4] == '2013' or file[-8:-4] == '2012':\n",
    "        four_year_data_files.append(file)"
   ]
  },
  {
   "cell_type": "code",
   "execution_count": 3,
   "metadata": {},
   "outputs": [
    {
     "name": "stdout",
     "output_type": "stream",
     "text": [
      "(35040, 21)\n"
     ]
    }
   ],
   "source": [
    "merged_df = pd.read_csv(data_folder+'/'+four_year_data_files[0])\n",
    "new_columns = merged_df.iloc[1]\n",
    "year_all = merged_df[2:]\n",
    "year_all.columns =new_columns\n",
    "merged_df = year_all.loc[:, year_all.columns.notnull()]\n",
    "\n",
    "\n",
    "for i in four_year_data_files[1:]:\n",
    "    df = pd.read_csv(data_folder+'/'+i)\n",
    "    new_columns = df.iloc[1]\n",
    "    year_all = df[2:]\n",
    "    year_all.columns =new_columns\n",
    "    df = year_all.loc[:, year_all.columns.notnull()]\n",
    "    \n",
    "    merged_df = pd.concat([merged_df,df],ignore_index=True)\n",
    "    \n",
    "print(merged_df.shape)   "
   ]
  },
  {
   "cell_type": "code",
   "execution_count": 4,
   "metadata": {},
   "outputs": [],
   "source": [
    "year = merged_df.drop(columns=['Year','Month','Day','Minute','DHI','DNI','Clearsky DHI','Clearsky DNI','Fill Flag','Dew Point','Clearsky GHI','Solar Zenith Angle','Wind Direction','Snow Depth','Precipitable Water'])"
   ]
  },
  {
   "cell_type": "code",
   "execution_count": 5,
   "metadata": {},
   "outputs": [
    {
     "data": {
      "text/html": [
       "<div>\n",
       "<style scoped>\n",
       "    .dataframe tbody tr th:only-of-type {\n",
       "        vertical-align: middle;\n",
       "    }\n",
       "\n",
       "    .dataframe tbody tr th {\n",
       "        vertical-align: top;\n",
       "    }\n",
       "\n",
       "    .dataframe thead th {\n",
       "        text-align: right;\n",
       "    }\n",
       "</style>\n",
       "<table border=\"1\" class=\"dataframe\">\n",
       "  <thead>\n",
       "    <tr style=\"text-align: right;\">\n",
       "      <th>1</th>\n",
       "      <th>Hour</th>\n",
       "      <th>GHI</th>\n",
       "      <th>Temperature</th>\n",
       "      <th>Pressure</th>\n",
       "      <th>Relative Humidity</th>\n",
       "      <th>Wind Speed</th>\n",
       "    </tr>\n",
       "  </thead>\n",
       "  <tbody>\n",
       "    <tr>\n",
       "      <th>0</th>\n",
       "      <td>0</td>\n",
       "      <td>0</td>\n",
       "      <td>16.5375240573793</td>\n",
       "      <td>958.2818603515625</td>\n",
       "      <td>62.008349216136516</td>\n",
       "      <td>3.0552704334259033</td>\n",
       "    </tr>\n",
       "    <tr>\n",
       "      <th>1</th>\n",
       "      <td>1</td>\n",
       "      <td>0</td>\n",
       "      <td>15.887987386020995</td>\n",
       "      <td>957.641357421875</td>\n",
       "      <td>67.16404107619258</td>\n",
       "      <td>3.0910086631774902</td>\n",
       "    </tr>\n",
       "    <tr>\n",
       "      <th>2</th>\n",
       "      <td>2</td>\n",
       "      <td>0</td>\n",
       "      <td>15.166190864552789</td>\n",
       "      <td>956.9365234375</td>\n",
       "      <td>72.52239607042007</td>\n",
       "      <td>2.993628978729248</td>\n",
       "    </tr>\n",
       "    <tr>\n",
       "      <th>3</th>\n",
       "      <td>3</td>\n",
       "      <td>0</td>\n",
       "      <td>14.377297017146475</td>\n",
       "      <td>956.7257080078125</td>\n",
       "      <td>78.3562691956598</td>\n",
       "      <td>2.880962610244751</td>\n",
       "    </tr>\n",
       "    <tr>\n",
       "      <th>4</th>\n",
       "      <td>4</td>\n",
       "      <td>0</td>\n",
       "      <td>13.752631018484635</td>\n",
       "      <td>956.8619384765625</td>\n",
       "      <td>83.29994974802678</td>\n",
       "      <td>2.8072917461395264</td>\n",
       "    </tr>\n",
       "  </tbody>\n",
       "</table>\n",
       "</div>"
      ],
      "text/plain": [
       "1 Hour GHI         Temperature           Pressure   Relative Humidity  \\\n",
       "0    0   0    16.5375240573793  958.2818603515625  62.008349216136516   \n",
       "1    1   0  15.887987386020995   957.641357421875   67.16404107619258   \n",
       "2    2   0  15.166190864552789     956.9365234375   72.52239607042007   \n",
       "3    3   0  14.377297017146475  956.7257080078125    78.3562691956598   \n",
       "4    4   0  13.752631018484635  956.8619384765625   83.29994974802678   \n",
       "\n",
       "1          Wind Speed  \n",
       "0  3.0552704334259033  \n",
       "1  3.0910086631774902  \n",
       "2   2.993628978729248  \n",
       "3   2.880962610244751  \n",
       "4  2.8072917461395264  "
      ]
     },
     "execution_count": 5,
     "metadata": {},
     "output_type": "execute_result"
    }
   ],
   "source": [
    "year.head()"
   ]
  },
  {
   "cell_type": "code",
   "execution_count": 6,
   "metadata": {},
   "outputs": [],
   "source": [
    "# year = year[~year.Hour.str.contains(['0','1'])]\n",
    "year = year[~year['Hour'].isin(['0','1','2','3','4','5','6','18','19','20','21','22','23','24'])]"
   ]
  },
  {
   "cell_type": "code",
   "execution_count": 7,
   "metadata": {},
   "outputs": [
    {
     "data": {
      "text/html": [
       "<div>\n",
       "<style scoped>\n",
       "    .dataframe tbody tr th:only-of-type {\n",
       "        vertical-align: middle;\n",
       "    }\n",
       "\n",
       "    .dataframe tbody tr th {\n",
       "        vertical-align: top;\n",
       "    }\n",
       "\n",
       "    .dataframe thead th {\n",
       "        text-align: right;\n",
       "    }\n",
       "</style>\n",
       "<table border=\"1\" class=\"dataframe\">\n",
       "  <thead>\n",
       "    <tr style=\"text-align: right;\">\n",
       "      <th>1</th>\n",
       "      <th>Hour</th>\n",
       "      <th>GHI</th>\n",
       "      <th>Temperature</th>\n",
       "      <th>Pressure</th>\n",
       "      <th>Relative Humidity</th>\n",
       "      <th>Wind Speed</th>\n",
       "    </tr>\n",
       "  </thead>\n",
       "  <tbody>\n",
       "    <tr>\n",
       "      <th>7</th>\n",
       "      <td>7</td>\n",
       "      <td>2</td>\n",
       "      <td>8.908432377668873</td>\n",
       "      <td>959.5189819335938</td>\n",
       "      <td>66.07574848570789</td>\n",
       "      <td>2.6676409244537354</td>\n",
       "    </tr>\n",
       "    <tr>\n",
       "      <th>8</th>\n",
       "      <td>8</td>\n",
       "      <td>195</td>\n",
       "      <td>12.390004185249381</td>\n",
       "      <td>960.3773803710938</td>\n",
       "      <td>51.99360438896258</td>\n",
       "      <td>2.146847724914551</td>\n",
       "    </tr>\n",
       "    <tr>\n",
       "      <th>9</th>\n",
       "      <td>9</td>\n",
       "      <td>403</td>\n",
       "      <td>16.15844896290662</td>\n",
       "      <td>960.3719482421875</td>\n",
       "      <td>42.90433650396643</td>\n",
       "      <td>1.8351476192474365</td>\n",
       "    </tr>\n",
       "    <tr>\n",
       "      <th>10</th>\n",
       "      <td>10</td>\n",
       "      <td>577</td>\n",
       "      <td>19.757506176234585</td>\n",
       "      <td>960.2145385742188</td>\n",
       "      <td>30.675571388032974</td>\n",
       "      <td>2.090529441833496</td>\n",
       "    </tr>\n",
       "    <tr>\n",
       "      <th>11</th>\n",
       "      <td>11</td>\n",
       "      <td>692</td>\n",
       "      <td>21.60684970064608</td>\n",
       "      <td>959.3038940429688</td>\n",
       "      <td>26.688062576172978</td>\n",
       "      <td>2.0701498985290527</td>\n",
       "    </tr>\n",
       "  </tbody>\n",
       "</table>\n",
       "</div>"
      ],
      "text/plain": [
       "1  Hour  GHI         Temperature           Pressure   Relative Humidity  \\\n",
       "7     7    2   8.908432377668873  959.5189819335938   66.07574848570789   \n",
       "8     8  195  12.390004185249381  960.3773803710938   51.99360438896258   \n",
       "9     9  403   16.15844896290662  960.3719482421875   42.90433650396643   \n",
       "10   10  577  19.757506176234585  960.2145385742188  30.675571388032974   \n",
       "11   11  692   21.60684970064608  959.3038940429688  26.688062576172978   \n",
       "\n",
       "1           Wind Speed  \n",
       "7   2.6676409244537354  \n",
       "8    2.146847724914551  \n",
       "9   1.8351476192474365  \n",
       "10   2.090529441833496  \n",
       "11  2.0701498985290527  "
      ]
     },
     "execution_count": 7,
     "metadata": {},
     "output_type": "execute_result"
    }
   ],
   "source": [
    "year.head()"
   ]
  },
  {
   "cell_type": "code",
   "execution_count": 8,
   "metadata": {},
   "outputs": [
    {
     "name": "stdout",
     "output_type": "stream",
     "text": [
      "<class 'pandas.core.frame.DataFrame'>\n",
      "Int64Index: 16060 entries, 7 to 35033\n",
      "Data columns (total 6 columns):\n",
      "Hour                 16060 non-null float64\n",
      "GHI                  16060 non-null float64\n",
      "Temperature          16060 non-null float64\n",
      "Pressure             16060 non-null float64\n",
      "Relative Humidity    16060 non-null float64\n",
      "Wind Speed           16060 non-null float64\n",
      "dtypes: float64(6)\n",
      "memory usage: 878.3 KB\n"
     ]
    }
   ],
   "source": [
    "year.to_csv('../11_hour_merged_data.csv',index=False, sep=',', encoding='utf-8')\n",
    "year.head()\n",
    "year = year.replace('-',0).astype('float64')\n",
    "year.info()"
   ]
  },
  {
   "cell_type": "code",
   "execution_count": null,
   "metadata": {},
   "outputs": [],
   "source": []
  }
 ],
 "metadata": {
  "kernelspec": {
   "display_name": "Python 3",
   "language": "python",
   "name": "python3"
  },
  "language_info": {
   "codemirror_mode": {
    "name": "ipython",
    "version": 3
   },
   "file_extension": ".py",
   "mimetype": "text/x-python",
   "name": "python",
   "nbconvert_exporter": "python",
   "pygments_lexer": "ipython3",
   "version": "3.7.3"
  }
 },
 "nbformat": 4,
 "nbformat_minor": 2
}
