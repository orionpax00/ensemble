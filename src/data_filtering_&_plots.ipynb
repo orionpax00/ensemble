{
 "cells": [
  {
   "cell_type": "code",
   "execution_count": 144,
   "metadata": {},
   "outputs": [],
   "source": [
    "import os\n",
    "import sys\n",
    "import pandas as pd\n",
    "import csv\n",
    "import sklearn\n",
    "import numpy as np\n",
    "import matplotlib.pyplot as plt\n",
    "import seaborn as sns"
   ]
  },
  {
   "cell_type": "code",
   "execution_count": 2,
   "metadata": {},
   "outputs": [],
   "source": [
    "data_folder = '../data'\n",
    "data_files = os.listdir(data_folder)"
   ]
  },
  {
   "cell_type": "code",
   "execution_count": 6,
   "metadata": {
    "scrolled": true
   },
   "outputs": [
    {
     "name": "stdout",
     "output_type": "stream",
     "text": [
      "for year 2014 : 22306_24.65_73.75_2014.csv\n",
      "for year 2000 : 22306_24.65_73.75_2000.csv\n",
      "for year 2012 : 22306_24.65_73.75_2012.csv\n",
      "for year 2013 : 22306_24.65_73.75_2013.csv\n",
      "for year 2008 : 22306_24.65_73.75_2008.csv\n",
      "for year 2005 : 22306_24.65_73.75_2005.csv\n",
      "for year 2007 : 22306_24.65_73.75_2007.csv\n",
      "for year 2006 : 22306_24.65_73.75_2006.csv\n",
      "for year 2009 : 22306_24.65_73.75_2009.csv\n",
      "for year 2001 : 22306_24.65_73.75_2001.csv\n",
      "for year 2011 : 22306_24.65_73.75_2011.csv\n",
      "for year 2004 : 22306_24.65_73.75_2004.csv\n",
      "for year 2010 : 22306_24.65_73.75_2010.csv\n",
      "for year 2003 : 22306_24.65_73.75_2003.csv\n",
      "for year 2002 : 22306_24.65_73.75_2002.csv\n"
     ]
    }
   ],
   "source": [
    "for file in data_files:\n",
    "    print(\"for year \"+file[-8:-4]+\" : \" + file)"
   ]
  },
  {
   "cell_type": "code",
   "execution_count": 149,
   "metadata": {
    "scrolled": true
   },
   "outputs": [
    {
     "name": "stdout",
     "output_type": "stream",
     "text": [
      "<class 'pandas.core.frame.DataFrame'>\n",
      "RangeIndex: 8762 entries, 0 to 8761\n",
      "Data columns (total 35 columns):\n",
      "Source                      8762 non-null object\n",
      "Location ID                 8762 non-null object\n",
      "City                        8762 non-null object\n",
      "State                       8762 non-null object\n",
      "Country                     8762 non-null object\n",
      "Latitude                    8762 non-null object\n",
      "Longitude                   8762 non-null object\n",
      "Time Zone                   8762 non-null object\n",
      "Elevation                   8762 non-null object\n",
      "Local Time Zone             8762 non-null object\n",
      "Clearsky DHI Units          8762 non-null object\n",
      "Clearsky DNI Units          8762 non-null object\n",
      "Clearsky GHI Units          8762 non-null object\n",
      "Dew Point Units             8762 non-null object\n",
      "DHI Units                   8762 non-null object\n",
      "DHI Perez Units             8762 non-null object\n",
      "DNI Units                   8762 non-null object\n",
      "DNI Perez Units             8762 non-null object\n",
      "GHI Units                   8762 non-null object\n",
      "GHI Perez Units             8762 non-null object\n",
      "Solar Zenith Angle Units    8762 non-null object\n",
      "Temperature Units           1 non-null object\n",
      "Pressure Units              1 non-null object\n",
      "Relative Humidity Units     1 non-null object\n",
      "Precipitable Water Units    1 non-null object\n",
      "Wind Direction Units        1 non-null object\n",
      "Wind Speed                  1 non-null object\n",
      "Snow Depth Units            1 non-null object\n",
      "Fill Flag 0                 0 non-null float64\n",
      "Fill Flag 1                 1 non-null object\n",
      "Fill Flag 2                 1 non-null object\n",
      "Fill Flag 3                 1 non-null object\n",
      "Fill Flag 4                 1 non-null object\n",
      "Fill Flag 5                 1 non-null object\n",
      "Version                     1 non-null object\n",
      "dtypes: float64(1), object(34)\n",
      "memory usage: 2.3+ MB\n"
     ]
    }
   ],
   "source": [
    "year_2014 = pd.read_csv(data_folder+'/'+data_files[0])\n",
    "year_2014.info()"
   ]
  },
  {
   "cell_type": "code",
   "execution_count": 123,
   "metadata": {
    "scrolled": true
   },
   "outputs": [],
   "source": [
    "new_columns = year_2014.iloc[1]\n",
    "year = year_2014[2:]\n",
    "year.columns =new_columns\n",
    "year = year.loc[:, year.columns.notnull()]\n",
    "\n",
    "# for counter,i in enumerate(new_columns):\n",
    "#     print(i)\n",
    "\n",
    "\n",
    "year = year.drop(columns=['Year','Month','Day','Minute','Hour','DHI','DNI','Clearsky DHI','Clearsky DNI','Fill Flag'])"
   ]
  },
  {
   "cell_type": "code",
   "execution_count": 125,
   "metadata": {},
   "outputs": [
    {
     "data": {
      "text/html": [
       "<div>\n",
       "<style scoped>\n",
       "    .dataframe tbody tr th:only-of-type {\n",
       "        vertical-align: middle;\n",
       "    }\n",
       "\n",
       "    .dataframe tbody tr th {\n",
       "        vertical-align: top;\n",
       "    }\n",
       "\n",
       "    .dataframe thead th {\n",
       "        text-align: right;\n",
       "    }\n",
       "</style>\n",
       "<table border=\"1\" class=\"dataframe\">\n",
       "  <thead>\n",
       "    <tr style=\"text-align: right;\">\n",
       "      <th>1</th>\n",
       "      <th>GHI</th>\n",
       "      <th>Clearsky GHI</th>\n",
       "      <th>Dew Point</th>\n",
       "      <th>Temperature</th>\n",
       "      <th>Pressure</th>\n",
       "      <th>Relative Humidity</th>\n",
       "      <th>Solar Zenith Angle</th>\n",
       "      <th>Precipitable Water</th>\n",
       "      <th>Snow Depth</th>\n",
       "      <th>Wind Direction</th>\n",
       "      <th>Wind Speed</th>\n",
       "    </tr>\n",
       "  </thead>\n",
       "  <tbody>\n",
       "    <tr>\n",
       "      <th>2</th>\n",
       "      <td>0</td>\n",
       "      <td>0</td>\n",
       "      <td>4</td>\n",
       "      <td>12.751339552289267</td>\n",
       "      <td>957.9305419921875</td>\n",
       "      <td>58.41139916942352</td>\n",
       "      <td>177.55742015012578</td>\n",
       "      <td>1.3668830583200968</td>\n",
       "      <td>0.0</td>\n",
       "      <td>73.88963317871094</td>\n",
       "      <td>4.430836200714111</td>\n",
       "    </tr>\n",
       "    <tr>\n",
       "      <th>3</th>\n",
       "      <td>0</td>\n",
       "      <td>0</td>\n",
       "      <td>6</td>\n",
       "      <td>12.196895002047142</td>\n",
       "      <td>957.7622680664062</td>\n",
       "      <td>67.29592773800267</td>\n",
       "      <td>168.03725969433503</td>\n",
       "      <td>1.4700043477445826</td>\n",
       "      <td>0.0</td>\n",
       "      <td>75.10269927978516</td>\n",
       "      <td>4.453418731689453</td>\n",
       "    </tr>\n",
       "    <tr>\n",
       "      <th>4</th>\n",
       "      <td>0</td>\n",
       "      <td>0</td>\n",
       "      <td>7</td>\n",
       "      <td>11.806139366268553</td>\n",
       "      <td>957.8780517578125</td>\n",
       "      <td>72.56749007380043</td>\n",
       "      <td>154.41832139803458</td>\n",
       "      <td>1.5719694344243218</td>\n",
       "      <td>0.0</td>\n",
       "      <td>74.26346588134766</td>\n",
       "      <td>4.3355021476745605</td>\n",
       "    </tr>\n",
       "    <tr>\n",
       "      <th>5</th>\n",
       "      <td>0</td>\n",
       "      <td>0</td>\n",
       "      <td>7</td>\n",
       "      <td>11.510595990320212</td>\n",
       "      <td>957.6235961914062</td>\n",
       "      <td>75.29933981073673</td>\n",
       "      <td>140.83665499983437</td>\n",
       "      <td>1.6669825069938207</td>\n",
       "      <td>0.0</td>\n",
       "      <td>72.37870025634766</td>\n",
       "      <td>4.2338972091674805</td>\n",
       "    </tr>\n",
       "    <tr>\n",
       "      <th>6</th>\n",
       "      <td>0</td>\n",
       "      <td>0</td>\n",
       "      <td>7</td>\n",
       "      <td>11.306806960929293</td>\n",
       "      <td>957.932861328125</td>\n",
       "      <td>76.7992879237338</td>\n",
       "      <td>127.37552025553532</td>\n",
       "      <td>1.7609774282137391</td>\n",
       "      <td>0.0</td>\n",
       "      <td>70.31179809570312</td>\n",
       "      <td>4.197237968444824</td>\n",
       "    </tr>\n",
       "  </tbody>\n",
       "</table>\n",
       "</div>"
      ],
      "text/plain": [
       "1 GHI Clearsky GHI Dew Point         Temperature           Pressure  \\\n",
       "2   0            0         4  12.751339552289267  957.9305419921875   \n",
       "3   0            0         6  12.196895002047142  957.7622680664062   \n",
       "4   0            0         7  11.806139366268553  957.8780517578125   \n",
       "5   0            0         7  11.510595990320212  957.6235961914062   \n",
       "6   0            0         7  11.306806960929293   957.932861328125   \n",
       "\n",
       "1  Relative Humidity  Solar Zenith Angle  Precipitable Water Snow Depth  \\\n",
       "2  58.41139916942352  177.55742015012578  1.3668830583200968        0.0   \n",
       "3  67.29592773800267  168.03725969433503  1.4700043477445826        0.0   \n",
       "4  72.56749007380043  154.41832139803458  1.5719694344243218        0.0   \n",
       "5  75.29933981073673  140.83665499983437  1.6669825069938207        0.0   \n",
       "6   76.7992879237338  127.37552025553532  1.7609774282137391        0.0   \n",
       "\n",
       "1     Wind Direction          Wind Speed  \n",
       "2  73.88963317871094   4.430836200714111  \n",
       "3  75.10269927978516   4.453418731689453  \n",
       "4  74.26346588134766  4.3355021476745605  \n",
       "5  72.37870025634766  4.2338972091674805  \n",
       "6  70.31179809570312   4.197237968444824  "
      ]
     },
     "execution_count": 125,
     "metadata": {},
     "output_type": "execute_result"
    }
   ],
   "source": [
    "year.head()"
   ]
  },
  {
   "cell_type": "code",
   "execution_count": 145,
   "metadata": {
    "scrolled": true
   },
   "outputs": [],
   "source": [
    "x = np.arange(year.shape[0])[0:100]\n",
    "y = year['GHI'][0:100]"
   ]
  },
  {
   "cell_type": "code",
   "execution_count": 142,
   "metadata": {},
   "outputs": [],
   "source": [
    "import plotly\n",
    "import plotly.plotly as py\n",
    "import plotly.graph_objs as go\n",
    "\n",
    "plotly.tools.set_credentials_file(username='dkumar', api_key='*************************8')\n",
    "\n",
    "x = np.arange(year.shape[0])\n",
    "y = year['GHI']\n",
    "trace = go.Scatter(\n",
    "    x = x,\n",
    "    y = y\n",
    ")\n",
    "\n",
    "data = [trace]\n",
    "\n",
    "py.iplot(data, filename='basic-line')\n",
    "\n",
    "\n",
    "\n",
    "trace = go.Scatter(\n",
    "    x = x,\n",
    "    y = y\n",
    ")\n",
    "\n",
    "data = [trace]\n",
    "\n",
    "py.iplot(data, filename='basic-line')"
   ]
  },
  {
   "cell_type": "markdown",
   "metadata": {},
   "source": [
    "### Heatmap : Correlation plot"
   ]
  },
  {
   "cell_type": "code",
   "execution_count": 153,
   "metadata": {},
   "outputs": [
    {
     "name": "stdout",
     "output_type": "stream",
     "text": [
      "<class 'pandas.core.frame.DataFrame'>\n",
      "RangeIndex: 8760 entries, 2 to 8761\n",
      "Data columns (total 11 columns):\n",
      "GHI                   8760 non-null float64\n",
      "Clearsky GHI          8760 non-null float64\n",
      "Dew Point             8760 non-null float64\n",
      "Temperature           8760 non-null float64\n",
      "Pressure              8760 non-null float64\n",
      "Relative Humidity     8760 non-null float64\n",
      "Solar Zenith Angle    8760 non-null float64\n",
      "Precipitable Water    8760 non-null float64\n",
      "Snow Depth            8760 non-null float64\n",
      "Wind Direction        8760 non-null float64\n",
      "Wind Speed            8760 non-null float64\n",
      "dtypes: float64(11)\n",
      "memory usage: 752.9 KB\n"
     ]
    }
   ],
   "source": [
    "year = year.astype('float64')\n",
    "year.info()"
   ]
  },
  {
   "cell_type": "code",
   "execution_count": 166,
   "metadata": {},
   "outputs": [
    {
     "data": {
      "image/png": "[encoded data removed]",
      "text/plain": [
       "<Figure size 432x288 with 2 Axes>"
      ]
     },
     "metadata": {
      "needs_background": "light"
     },
     "output_type": "display_data"
    }
   ],
   "source": [
    "corr_hm = sns.heatmap(year.corr(), \n",
    "                xticklabels=year.corr().columns,\n",
    "                yticklabels=year.corr().columns,vmin=0,vmax=1,cmap=\"YlGnBu\")\n",
    "# plt.tight_layout()\n",
    "\n",
    "corr_hm.figure.savefig(\"../docs/corr_heatmap.png\",dpi=200,bbox_inches = \"tight\")"
   ]
  },
  {
   "cell_type": "markdown",
   "metadata": {},
   "source": [
    "## XGBOOST Classfier"
   ]
  }
 ],
 "metadata": {
  "kernelspec": {
   "display_name": "Python 3",
   "language": "python",
   "name": "python3"
  },
  "language_info": {
   "codemirror_mode": {
    "name": "ipython",
    "version": 3
   },
   "file_extension": ".py",
   "mimetype": "text/x-python",
   "name": "python",
   "nbconvert_exporter": "python",
   "pygments_lexer": "ipython3",
   "version": "3.6.7"
  }
 },
 "nbformat": 4,
 "nbformat_minor": 2
}
