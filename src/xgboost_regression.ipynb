{
 "cells": [
  {
   "cell_type": "code",
   "execution_count": 28,
   "metadata": {},
   "outputs": [],
   "source": [
    "import os\n",
    "import sys\n",
    "import pandas as pd\n",
    "import csv\n",
    "import sklearn\n",
    "import numpy as np\n",
    "import matplotlib.pyplot as plt\n",
    "import seaborn as sns\n",
    "import math"
   ]
  },
  {
   "cell_type": "code",
   "execution_count": 29,
   "metadata": {},
   "outputs": [],
   "source": [
    "from xgboost import XGBRegressor,plot_importance\n",
    "from sklearn.model_selection import train_test_split, GridSearchCV, StratifiedKFold\n",
    "from sklearn.metrics import accuracy_score, mean_squared_error\n",
    "from sklearn.preprocessing import Normalizer\n",
    "import xgboost as xgb"
   ]
  },
  {
   "cell_type": "code",
   "execution_count": 62,
   "metadata": {},
   "outputs": [],
   "source": [
    "from matplotlib import pyplot\n",
    "%matplotlib inline"
   ]
  },
  {
   "cell_type": "code",
   "execution_count": 31,
   "metadata": {},
   "outputs": [],
   "source": [
    "data_folder = '../data'\n",
    "data_files = os.listdir(data_folder)"
   ]
  },
  {
   "cell_type": "code",
   "execution_count": 32,
   "metadata": {},
   "outputs": [
    {
     "data": {
      "text/html": [
       "<div>\n",
       "<style scoped>\n",
       "    .dataframe tbody tr th:only-of-type {\n",
       "        vertical-align: middle;\n",
       "    }\n",
       "\n",
       "    .dataframe tbody tr th {\n",
       "        vertical-align: top;\n",
       "    }\n",
       "\n",
       "    .dataframe thead th {\n",
       "        text-align: right;\n",
       "    }\n",
       "</style>\n",
       "<table border=\"1\" class=\"dataframe\">\n",
       "  <thead>\n",
       "    <tr style=\"text-align: right;\">\n",
       "      <th></th>\n",
       "      <th>Source</th>\n",
       "      <th>Location ID</th>\n",
       "      <th>City</th>\n",
       "      <th>State</th>\n",
       "      <th>Country</th>\n",
       "      <th>Latitude</th>\n",
       "      <th>Longitude</th>\n",
       "      <th>Time Zone</th>\n",
       "      <th>Elevation</th>\n",
       "      <th>Local Time Zone</th>\n",
       "      <th>...</th>\n",
       "      <th>Wind Direction Units</th>\n",
       "      <th>Wind Speed</th>\n",
       "      <th>Snow Depth Units</th>\n",
       "      <th>Fill Flag 0</th>\n",
       "      <th>Fill Flag 1</th>\n",
       "      <th>Fill Flag 2</th>\n",
       "      <th>Fill Flag 3</th>\n",
       "      <th>Fill Flag 4</th>\n",
       "      <th>Fill Flag 5</th>\n",
       "      <th>Version</th>\n",
       "    </tr>\n",
       "  </thead>\n",
       "  <tbody>\n",
       "    <tr>\n",
       "      <th>0</th>\n",
       "      <td>SUNY</td>\n",
       "      <td>22306</td>\n",
       "      <td>-</td>\n",
       "      <td>-</td>\n",
       "      <td>India</td>\n",
       "      <td>24.65</td>\n",
       "      <td>73.75</td>\n",
       "      <td>5.5</td>\n",
       "      <td>0</td>\n",
       "      <td>5.5</td>\n",
       "      <td>...</td>\n",
       "      <td>Degrees</td>\n",
       "      <td>m/s</td>\n",
       "      <td>m</td>\n",
       "      <td>NaN</td>\n",
       "      <td>Missing Image</td>\n",
       "      <td>Low Irradiance</td>\n",
       "      <td>Exceeds Clearsky</td>\n",
       "      <td>Missing CLoud Properties</td>\n",
       "      <td>Rayleigh Violation</td>\n",
       "      <td>unknown</td>\n",
       "    </tr>\n",
       "    <tr>\n",
       "      <th>1</th>\n",
       "      <td>Year</td>\n",
       "      <td>Month</td>\n",
       "      <td>Day</td>\n",
       "      <td>Hour</td>\n",
       "      <td>Minute</td>\n",
       "      <td>DHI</td>\n",
       "      <td>DNI</td>\n",
       "      <td>GHI</td>\n",
       "      <td>Clearsky DHI</td>\n",
       "      <td>Clearsky DNI</td>\n",
       "      <td>...</td>\n",
       "      <td>NaN</td>\n",
       "      <td>NaN</td>\n",
       "      <td>NaN</td>\n",
       "      <td>NaN</td>\n",
       "      <td>NaN</td>\n",
       "      <td>NaN</td>\n",
       "      <td>NaN</td>\n",
       "      <td>NaN</td>\n",
       "      <td>NaN</td>\n",
       "      <td>NaN</td>\n",
       "    </tr>\n",
       "    <tr>\n",
       "      <th>2</th>\n",
       "      <td>2014</td>\n",
       "      <td>1</td>\n",
       "      <td>1</td>\n",
       "      <td>0</td>\n",
       "      <td>30</td>\n",
       "      <td>0</td>\n",
       "      <td>0</td>\n",
       "      <td>0</td>\n",
       "      <td>0</td>\n",
       "      <td>0</td>\n",
       "      <td>...</td>\n",
       "      <td>NaN</td>\n",
       "      <td>NaN</td>\n",
       "      <td>NaN</td>\n",
       "      <td>NaN</td>\n",
       "      <td>NaN</td>\n",
       "      <td>NaN</td>\n",
       "      <td>NaN</td>\n",
       "      <td>NaN</td>\n",
       "      <td>NaN</td>\n",
       "      <td>NaN</td>\n",
       "    </tr>\n",
       "    <tr>\n",
       "      <th>3</th>\n",
       "      <td>2014</td>\n",
       "      <td>1</td>\n",
       "      <td>1</td>\n",
       "      <td>1</td>\n",
       "      <td>30</td>\n",
       "      <td>0</td>\n",
       "      <td>0</td>\n",
       "      <td>0</td>\n",
       "      <td>0</td>\n",
       "      <td>0</td>\n",
       "      <td>...</td>\n",
       "      <td>NaN</td>\n",
       "      <td>NaN</td>\n",
       "      <td>NaN</td>\n",
       "      <td>NaN</td>\n",
       "      <td>NaN</td>\n",
       "      <td>NaN</td>\n",
       "      <td>NaN</td>\n",
       "      <td>NaN</td>\n",
       "      <td>NaN</td>\n",
       "      <td>NaN</td>\n",
       "    </tr>\n",
       "    <tr>\n",
       "      <th>4</th>\n",
       "      <td>2014</td>\n",
       "      <td>1</td>\n",
       "      <td>1</td>\n",
       "      <td>2</td>\n",
       "      <td>30</td>\n",
       "      <td>0</td>\n",
       "      <td>0</td>\n",
       "      <td>0</td>\n",
       "      <td>0</td>\n",
       "      <td>0</td>\n",
       "      <td>...</td>\n",
       "      <td>NaN</td>\n",
       "      <td>NaN</td>\n",
       "      <td>NaN</td>\n",
       "      <td>NaN</td>\n",
       "      <td>NaN</td>\n",
       "      <td>NaN</td>\n",
       "      <td>NaN</td>\n",
       "      <td>NaN</td>\n",
       "      <td>NaN</td>\n",
       "      <td>NaN</td>\n",
       "    </tr>\n",
       "  </tbody>\n",
       "</table>\n",
       "<p>5 rows × 35 columns</p>\n",
       "</div>"
      ],
      "text/plain": [
       "  Source Location ID City State Country Latitude Longitude Time Zone  \\\n",
       "0   SUNY       22306    -     -   India    24.65     73.75       5.5   \n",
       "1   Year       Month  Day  Hour  Minute      DHI       DNI       GHI   \n",
       "2   2014           1    1     0      30        0         0         0   \n",
       "3   2014           1    1     1      30        0         0         0   \n",
       "4   2014           1    1     2      30        0         0         0   \n",
       "\n",
       "      Elevation Local Time Zone  ... Wind Direction Units Wind Speed  \\\n",
       "0             0             5.5  ...              Degrees        m/s   \n",
       "1  Clearsky DHI    Clearsky DNI  ...                  NaN        NaN   \n",
       "2             0               0  ...                  NaN        NaN   \n",
       "3             0               0  ...                  NaN        NaN   \n",
       "4             0               0  ...                  NaN        NaN   \n",
       "\n",
       "  Snow Depth Units Fill Flag 0    Fill Flag 1     Fill Flag 2  \\\n",
       "0                m         NaN  Missing Image  Low Irradiance   \n",
       "1              NaN         NaN            NaN             NaN   \n",
       "2              NaN         NaN            NaN             NaN   \n",
       "3              NaN         NaN            NaN             NaN   \n",
       "4              NaN         NaN            NaN             NaN   \n",
       "\n",
       "        Fill Flag 3               Fill Flag 4         Fill Flag 5  Version  \n",
       "0  Exceeds Clearsky  Missing CLoud Properties  Rayleigh Violation  unknown  \n",
       "1               NaN                       NaN                 NaN      NaN  \n",
       "2               NaN                       NaN                 NaN      NaN  \n",
       "3               NaN                       NaN                 NaN      NaN  \n",
       "4               NaN                       NaN                 NaN      NaN  \n",
       "\n",
       "[5 rows x 35 columns]"
      ]
     },
     "execution_count": 32,
     "metadata": {},
     "output_type": "execute_result"
    }
   ],
   "source": [
    "year_2014 = pd.read_csv(data_folder+'/'+data_files[0])\n",
    "year_2014.head()"
   ]
  },
  {
   "cell_type": "code",
   "execution_count": 33,
   "metadata": {},
   "outputs": [],
   "source": [
    "new_columns = year_2014.iloc[1]\n",
    "year_all = year_2014[2:]\n",
    "year_all.columns =new_columns\n",
    "year = year_all.loc[:, year_all.columns.notnull()]\n",
    "\n",
    "# for counter,i in enumerate(new_columns):\n",
    "#     print(i)\n",
    "\n",
    "\n",
    "year = year.drop(columns=['Year','Month','Day','Minute','DHI','DNI','Clearsky DHI','Clearsky DNI','Fill Flag','Dew Point','Clearsky GHI','Solar Zenith Angle','Wind Direction','Snow Depth','Precipitable Water'])"
   ]
  },
  {
   "cell_type": "code",
   "execution_count": 34,
   "metadata": {},
   "outputs": [
    {
     "name": "stdout",
     "output_type": "stream",
     "text": [
      "<class 'pandas.core.frame.DataFrame'>\n",
      "RangeIndex: 8760 entries, 2 to 8761\n",
      "Data columns (total 6 columns):\n",
      "Hour                 8760 non-null float64\n",
      "GHI                  8760 non-null float64\n",
      "Temperature          8760 non-null float64\n",
      "Pressure             8760 non-null float64\n",
      "Relative Humidity    8760 non-null float64\n",
      "Wind Speed           8760 non-null float64\n",
      "dtypes: float64(6)\n",
      "memory usage: 410.7 KB\n"
     ]
    }
   ],
   "source": [
    "year = year.astype('float64')\n",
    "year.info()"
   ]
  },
  {
   "cell_type": "code",
   "execution_count": 35,
   "metadata": {},
   "outputs": [
    {
     "name": "stdout",
     "output_type": "stream",
     "text": [
      "Normalizer(copy=True, norm='l2')\n",
      "[[0.         0.01328535 0.99804736 0.06085759 0.00461639]\n",
      " [0.00104144 0.0127023  0.99744886 0.07008445 0.00463795]\n",
      " [0.0020818  0.01228901 0.997055   0.07553548 0.00451282]\n",
      " ...\n",
      " [0.02189238 0.01564988 0.99889576 0.03825496 0.00443074]\n",
      " [0.02293431 0.01486344 0.99867655 0.04333415 0.00451597]\n",
      " [0.02396545 0.01406343 0.99830212 0.05098941 0.00456342]]\n"
     ]
    }
   ],
   "source": [
    "X = year.drop(columns=['GHI'])\n",
    "Y = year.pop('GHI')\n",
    "\n",
    "transformer = Normalizer().fit(X)\n",
    "X_norm = transformer.transform(X)\n",
    "\n",
    "\n",
    "print(transformer)\n",
    "print(X_norm)\n",
    "\n",
    "seed = 7\n",
    "test_size = 0.33\n",
    "X_train, X_test, y_train, y_test = train_test_split(X_norm, Y, test_size=test_size, random_state=seed)\n",
    "model = XGBRegressor()"
   ]
  },
  {
   "cell_type": "code",
   "execution_count": 36,
   "metadata": {},
   "outputs": [
    {
     "name": "stdout",
     "output_type": "stream",
     "text": [
      "XGBRegressor(base_score=0.5, booster='gbtree', colsample_bylevel=1,\n",
      "       colsample_bytree=1, gamma=0, importance_type='gain',\n",
      "       learning_rate=0.1, max_delta_step=0, max_depth=3,\n",
      "       min_child_weight=1, missing=None, n_estimators=100, n_jobs=1,\n",
      "       nthread=None, objective='reg:linear', random_state=0, reg_alpha=0,\n",
      "       reg_lambda=1, scale_pos_weight=1, seed=None, silent=True,\n",
      "       subsample=1)\n"
     ]
    }
   ],
   "source": [
    "print(model)"
   ]
  },
  {
   "cell_type": "code",
   "execution_count": 37,
   "metadata": {},
   "outputs": [
    {
     "name": "stderr",
     "output_type": "stream",
     "text": [
      "/home/primus/durgeshapi/ensemble/env/lib/python3.6/site-packages/sklearn/model_selection/_split.py:652: Warning: The least populated class in y has only 1 members, which is too few. The minimum number of members in any class cannot be less than n_splits=10.\n",
      "  % (min_groups, self.n_splits)), Warning)\n",
      "/home/primus/durgeshapi/ensemble/env/lib/python3.6/site-packages/sklearn/model_selection/_search.py:841: DeprecationWarning: The default of the `iid` parameter will change from True to False in version 0.22 and will be removed in 0.24. This will change numeric results when test-set sizes are unequal.\n",
      "  DeprecationWarning)\n",
      "/home/primus/durgeshapi/ensemble/env/lib/python3.6/site-packages/xgboost/core.py:587: FutureWarning: Series.base is deprecated and will be removed in a future version\n",
      "  if getattr(data, 'base', None) is not None and \\\n"
     ]
    }
   ],
   "source": [
    "learning_rate = [0.0001, 0.001, 0.01, 0.1, 0.2, 0.3]\n",
    "param_grid = dict(learning_rate=learning_rate)\n",
    "kfold = StratifiedKFold(n_splits=10, shuffle=True, random_state=7)\n",
    "grid_search = GridSearchCV(model, param_grid, scoring=\"neg_mean_squared_error\", n_jobs=-1, cv=kfold)\n",
    "grid_result = grid_search.fit(X_train, y_train,verbose=True)"
   ]
  },
  {
   "cell_type": "code",
   "execution_count": 65,
   "metadata": {
    "scrolled": false
   },
   "outputs": [
    {
     "name": "stdout",
     "output_type": "stream",
     "text": [
      "Best: -5191.401763 using {'learning_rate': 0.2, 'max_depth': 6, 'n_estimators': 50}\n",
      "-15045.738833 (6902.886067) with: {'learning_rate': 0.2, 'max_depth': 2, 'n_estimators': 10}\n",
      "-7430.039049 (3751.512773) with: {'learning_rate': 0.2, 'max_depth': 2, 'n_estimators': 20}\n",
      "-6100.612457 (3411.851410) with: {'learning_rate': 0.2, 'max_depth': 2, 'n_estimators': 50}\n",
      "-5881.371518 (3321.993854) with: {'learning_rate': 0.2, 'max_depth': 2, 'n_estimators': 100}\n",
      "-5765.010279 (3254.264527) with: {'learning_rate': 0.2, 'max_depth': 2, 'n_estimators': 150}\n",
      "-5711.351909 (3222.241028) with: {'learning_rate': 0.2, 'max_depth': 2, 'n_estimators': 200}\n",
      "-8715.175070 (5065.101087) with: {'learning_rate': 0.2, 'max_depth': 4, 'n_estimators': 10}\n",
      "-5867.526272 (3459.423915) with: {'learning_rate': 0.2, 'max_depth': 4, 'n_estimators': 20}\n",
      "-5390.194962 (3221.876390) with: {'learning_rate': 0.2, 'max_depth': 4, 'n_estimators': 50}\n",
      "-5311.889469 (3157.196671) with: {'learning_rate': 0.2, 'max_depth': 4, 'n_estimators': 100}\n",
      "-5338.549379 (3168.771773) with: {'learning_rate': 0.2, 'max_depth': 4, 'n_estimators': 150}\n",
      "-5386.973838 (3196.658100) with: {'learning_rate': 0.2, 'max_depth': 4, 'n_estimators': 200}\n",
      "-7482.247855 (4455.888899) with: {'learning_rate': 0.2, 'max_depth': 6, 'n_estimators': 10}\n",
      "-5289.569773 (3295.348992) with: {'learning_rate': 0.2, 'max_depth': 6, 'n_estimators': 20}\n",
      "-5191.401763 (3222.305525) with: {'learning_rate': 0.2, 'max_depth': 6, 'n_estimators': 50}\n",
      "-5221.894483 (3224.481841) with: {'learning_rate': 0.2, 'max_depth': 6, 'n_estimators': 100}\n",
      "-5257.309375 (3226.467712) with: {'learning_rate': 0.2, 'max_depth': 6, 'n_estimators': 150}\n",
      "-5297.846336 (3232.899085) with: {'learning_rate': 0.2, 'max_depth': 6, 'n_estimators': 200}\n",
      "-7400.920604 (4352.206446) with: {'learning_rate': 0.2, 'max_depth': 8, 'n_estimators': 10}\n",
      "-5249.068927 (3144.722054) with: {'learning_rate': 0.2, 'max_depth': 8, 'n_estimators': 20}\n",
      "-5277.363037 (3191.181178) with: {'learning_rate': 0.2, 'max_depth': 8, 'n_estimators': 50}\n",
      "-5339.271196 (3215.833199) with: {'learning_rate': 0.2, 'max_depth': 8, 'n_estimators': 100}\n",
      "-5384.670807 (3237.803869) with: {'learning_rate': 0.2, 'max_depth': 8, 'n_estimators': 150}\n",
      "-5400.055009 (3240.628584) with: {'learning_rate': 0.2, 'max_depth': 8, 'n_estimators': 200}\n",
      "-7342.908821 (4347.444048) with: {'learning_rate': 0.2, 'max_depth': 10, 'n_estimators': 10}\n",
      "-5274.157622 (3255.175685) with: {'learning_rate': 0.2, 'max_depth': 10, 'n_estimators': 20}\n",
      "-5349.530621 (3306.532274) with: {'learning_rate': 0.2, 'max_depth': 10, 'n_estimators': 50}\n",
      "-5394.120923 (3317.405282) with: {'learning_rate': 0.2, 'max_depth': 10, 'n_estimators': 100}\n",
      "-5415.945771 (3328.496861) with: {'learning_rate': 0.2, 'max_depth': 10, 'n_estimators': 150}\n",
      "-5421.693615 (3330.121565) with: {'learning_rate': 0.2, 'max_depth': 10, 'n_estimators': 200}\n"
     ]
    }
   ],
   "source": [
    "print(\"Best: %f using %s\" % (grid_result.best_score_, grid_result.best_params_))\n",
    "means = grid_result.cv_results_['mean_test_score']\n",
    "stds = grid_result.cv_results_['std_test_score']\n",
    "params = grid_result.cv_results_['params']\n",
    "for mean, stdev, param in zip(means, stds, params):\n",
    "\tprint(\"%f (%f) with: %r\" % (mean, stdev, param))\n",
    "# plot"
   ]
  },
  {
   "cell_type": "code",
   "execution_count": 39,
   "metadata": {},
   "outputs": [
    {
     "name": "stdout",
     "output_type": "stream",
     "text": [
      "Fitting 10 folds for each of 30 candidates, totalling 300 fits\n"
     ]
    },
    {
     "name": "stderr",
     "output_type": "stream",
     "text": [
      "/home/primus/durgeshapi/ensemble/env/lib/python3.6/site-packages/sklearn/model_selection/_split.py:652: Warning: The least populated class in y has only 1 members, which is too few. The minimum number of members in any class cannot be less than n_splits=10.\n",
      "  % (min_groups, self.n_splits)), Warning)\n",
      "[Parallel(n_jobs=-1)]: Using backend LokyBackend with 24 concurrent workers.\n",
      "[Parallel(n_jobs=-1)]: Done   2 tasks      | elapsed:    0.1s\n",
      "[Parallel(n_jobs=-1)]: Done 300 out of 300 | elapsed:   16.0s finished\n",
      "/home/primus/durgeshapi/ensemble/env/lib/python3.6/site-packages/sklearn/model_selection/_search.py:841: DeprecationWarning: The default of the `iid` parameter will change from True to False in version 0.22 and will be removed in 0.24. This will change numeric results when test-set sizes are unequal.\n",
      "  DeprecationWarning)\n",
      "/home/primus/durgeshapi/ensemble/env/lib/python3.6/site-packages/xgboost/core.py:587: FutureWarning: Series.base is deprecated and will be removed in a future version\n",
      "  if getattr(data, 'base', None) is not None and \\\n"
     ]
    }
   ],
   "source": [
    "n_estimators = [10, 20 , 50, 100, 150, 200]\n",
    "max_depth = [2, 4, 6, 8, 10]\n",
    "learning_rate = [0.2]\n",
    "param_grid = dict(max_depth=max_depth, n_estimators=n_estimators, learning_rate=learning_rate)\n",
    "\n",
    "\n",
    "kfold = StratifiedKFold(n_splits=10, shuffle=True, random_state=7)\n",
    "grid_search = GridSearchCV(model, param_grid, scoring=\"neg_mean_squared_error\", n_jobs=-1, cv=kfold,verbose=1)\n",
    "grid_result = grid_search.fit(X_train, y_train)"
   ]
  },
  {
   "cell_type": "code",
   "execution_count": 71,
   "metadata": {
    "scrolled": false
   },
   "outputs": [
    {
     "name": "stdout",
     "output_type": "stream",
     "text": [
      "Index(['Hour', 'Temperature', 'Pressure', 'Relative Humidity', 'Wind Speed'], dtype='object', name=1)\n",
      "[0.35092017 0.49877715 0.0178386  0.12251993 0.00994414]\n"
     ]
    },
    {
     "data": {
      "image/png": "[encoded data removed]",
      "text/plain": [
       "<Figure size 432x288 with 1 Axes>"
      ]
     },
     "metadata": {},
     "output_type": "display_data"
    }
   ],
   "source": [
    "sns.set(style=\"whitegrid\")\n",
    "print(X.columns)\n",
    "print(grid_result.best_estimator_.feature_importances_)\n",
    "\n",
    "\n",
    "sns_plot = sns.barplot(X.columns,grid_result.best_estimator_.feature_importances_)\n",
    "sns_plot.set_xticklabels(sns_plot.get_xticklabels(), rotation=30)\n",
    "fig = sns_plot.get_figure()\n",
    "fig.savefig(\"../docs/feature_importance_vertical.png\",dpi=200,bbox_inches = \"tight\")\n",
    "\n",
    "# sns_plot = sns.barplot(grid_result.best_estimator_.feature_importances_, X.columns)\n",
    "# fig = sns_plot.get_figure()\n",
    "# fig.savefig(\"../docs/feature_importance_horizontal.png\",dpi=200,bbox_inches = \"tight\")"
   ]
  },
  {
   "cell_type": "code",
   "execution_count": 66,
   "metadata": {},
   "outputs": [
    {
     "data": {
      "image/png": "[encoded data removed]",
      "text/plain": [
       "<Figure size 432x288 with 2 Axes>"
      ]
     },
     "metadata": {},
     "output_type": "display_data"
    }
   ],
   "source": [
    "corr_hm = sns.heatmap(X.corr(), \n",
    "                xticklabels=X.corr().columns,\n",
    "                yticklabels=X.corr().columns,vmin=0,vmax=1,cmap=\"YlGnBu\")\n",
    "plt.show()\n",
    "# plt.tight_layout()\n",
    "\n",
    "corr_hm.figure.savefig(\"../docs/corr_heatmap.png\",dpi=200,bbox_inches = \"tight\")"
   ]
  },
  {
   "cell_type": "code",
   "execution_count": 60,
   "metadata": {
    "scrolled": false
   },
   "outputs": [
    {
     "name": "stdout",
     "output_type": "stream",
     "text": [
      "--------------------------------------------------------------------\n",
      "Best: 72.051383 using {'learning_rate': 0.2, 'max_depth': 6, 'n_estimators': 50}\n",
      "--------------------------------------------------------------------\n",
      "122.661073 (6902.886067) with: {'learning_rate': 0.2, 'max_depth': 2, 'n_estimators': 10}\n",
      "86.197674 (3751.512773) with: {'learning_rate': 0.2, 'max_depth': 2, 'n_estimators': 20}\n",
      "78.106418 (3411.851410) with: {'learning_rate': 0.2, 'max_depth': 2, 'n_estimators': 50}\n",
      "76.690101 (3321.993854) with: {'learning_rate': 0.2, 'max_depth': 2, 'n_estimators': 100}\n",
      "75.927665 (3254.264527) with: {'learning_rate': 0.2, 'max_depth': 2, 'n_estimators': 150}\n",
      "75.573487 (3222.241028) with: {'learning_rate': 0.2, 'max_depth': 2, 'n_estimators': 200}\n",
      "93.355102 (5065.101087) with: {'learning_rate': 0.2, 'max_depth': 4, 'n_estimators': 10}\n",
      "76.599780 (3459.423915) with: {'learning_rate': 0.2, 'max_depth': 4, 'n_estimators': 20}\n",
      "73.417947 (3221.876390) with: {'learning_rate': 0.2, 'max_depth': 4, 'n_estimators': 50}\n",
      "72.882710 (3157.196671) with: {'learning_rate': 0.2, 'max_depth': 4, 'n_estimators': 100}\n",
      "73.065377 (3168.771773) with: {'learning_rate': 0.2, 'max_depth': 4, 'n_estimators': 150}\n",
      "73.396007 (3196.658100) with: {'learning_rate': 0.2, 'max_depth': 4, 'n_estimators': 200}\n",
      "86.499988 (4455.888899) with: {'learning_rate': 0.2, 'max_depth': 6, 'n_estimators': 10}\n",
      "72.729429 (3295.348992) with: {'learning_rate': 0.2, 'max_depth': 6, 'n_estimators': 20}\n",
      "72.051383 (3222.305525) with: {'learning_rate': 0.2, 'max_depth': 6, 'n_estimators': 50}\n",
      "72.262677 (3224.481841) with: {'learning_rate': 0.2, 'max_depth': 6, 'n_estimators': 100}\n",
      "72.507306 (3226.467712) with: {'learning_rate': 0.2, 'max_depth': 6, 'n_estimators': 150}\n",
      "72.786306 (3232.899085) with: {'learning_rate': 0.2, 'max_depth': 6, 'n_estimators': 200}\n",
      "86.028603 (4352.206446) with: {'learning_rate': 0.2, 'max_depth': 8, 'n_estimators': 10}\n",
      "72.450458 (3144.722054) with: {'learning_rate': 0.2, 'max_depth': 8, 'n_estimators': 20}\n",
      "72.645461 (3191.181178) with: {'learning_rate': 0.2, 'max_depth': 8, 'n_estimators': 50}\n",
      "73.070317 (3215.833199) with: {'learning_rate': 0.2, 'max_depth': 8, 'n_estimators': 100}\n",
      "73.380316 (3237.803869) with: {'learning_rate': 0.2, 'max_depth': 8, 'n_estimators': 150}\n",
      "73.485067 (3240.628584) with: {'learning_rate': 0.2, 'max_depth': 8, 'n_estimators': 200}\n",
      "85.690774 (4347.444048) with: {'learning_rate': 0.2, 'max_depth': 10, 'n_estimators': 10}\n",
      "72.623396 (3255.175685) with: {'learning_rate': 0.2, 'max_depth': 10, 'n_estimators': 20}\n",
      "73.140486 (3306.532274) with: {'learning_rate': 0.2, 'max_depth': 10, 'n_estimators': 50}\n",
      "73.444679 (3317.405282) with: {'learning_rate': 0.2, 'max_depth': 10, 'n_estimators': 100}\n",
      "73.593110 (3328.496861) with: {'learning_rate': 0.2, 'max_depth': 10, 'n_estimators': 150}\n",
      "73.632151 (3330.121565) with: {'learning_rate': 0.2, 'max_depth': 10, 'n_estimators': 200}\n"
     ]
    }
   ],
   "source": [
    "print(\"--------------------------------------------------------------------\")\n",
    "print(\"Best: %f using %s\" % (math.sqrt(-grid_result.best_score_), grid_result.best_params_))\n",
    "print(\"--------------------------------------------------------------------\")\n",
    "means = grid_result.cv_results_['mean_test_score']\n",
    "stds = grid_result.cv_results_['std_test_score']\n",
    "params = grid_result.cv_results_['params']\n",
    "for mean, stdev, param in zip(means, stds, params):\n",
    "\tprint(\"%f (%f) with: %r\" % (math.sqrt(-mean), stdev, param))\n",
    "scores = [math.sqrt(-x) for x in grid_result.cv_results_['mean_test_score']]\n",
    "scores = np.array(scores).reshape(len(max_depth), len(n_estimators))\n",
    "%matplotlib notebook\n",
    "%matplotlib notebook\n",
    "score = {}\n",
    "for ind, i in enumerate(max_depth):\n",
    "    score[i] = scores[ind]"
   ]
  },
  {
   "cell_type": "code",
   "execution_count": 72,
   "metadata": {},
   "outputs": [
    {
     "name": "stderr",
     "output_type": "stream",
     "text": [
      "/home/primus/durgeshapi/ensemble/env/lib/python3.6/site-packages/sklearn/model_selection/_split.py:652: Warning: The least populated class in y has only 1 members, which is too few. The minimum number of members in any class cannot be less than n_splits=10.\n",
      "  % (min_groups, self.n_splits)), Warning)\n",
      "/home/primus/durgeshapi/ensemble/env/lib/python3.6/site-packages/sklearn/model_selection/_search.py:841: DeprecationWarning: The default of the `iid` parameter will change from True to False in version 0.22 and will be removed in 0.24. This will change numeric results when test-set sizes are unequal.\n",
      "  DeprecationWarning)\n",
      "/home/primus/durgeshapi/ensemble/env/lib/python3.6/site-packages/xgboost/core.py:587: FutureWarning: Series.base is deprecated and will be removed in a future version\n",
      "  if getattr(data, 'base', None) is not None and \\\n"
     ]
    }
   ],
   "source": [
    "n_estimators = [50]\n",
    "max_depth = [6]\n",
    "learning_rate = [0.2]\n",
    "param_grid = dict(max_depth=max_depth, n_estimators=n_estimators, learning_rate=learning_rate)\n",
    "kfold = StratifiedKFold(n_splits=10, shuffle=True, random_state=7)\n",
    "grid_search = GridSearchCV(model, param_grid, scoring=\"neg_mean_squared_error\", n_jobs=-1, cv=kfold)\n",
    "grid_result = grid_search.fit(X_train, y_train,verbose=True)"
   ]
  },
  {
   "cell_type": "code",
   "execution_count": 74,
   "metadata": {},
   "outputs": [],
   "source": [
    "predictinos = grid_result.predict(X_test)"
   ]
  },
  {
   "cell_type": "code",
   "execution_count": 78,
   "metadata": {},
   "outputs": [],
   "source": [
    "squared_sum = 0\n",
    "for counter,i in enumerate(y_test):\n",
    "    squared_sum += ((i)-predictinos[counter])**2\n",
    "    "
   ]
  },
  {
   "cell_type": "code",
   "execution_count": 42,
   "metadata": {},
   "outputs": [
    {
     "data": {
      "text/plain": [
       "'/home/primus/durgeshapi/ensemble/src/rsme.html'"
      ]
     },
     "execution_count": 42,
     "metadata": {},
     "output_type": "execute_result"
    }
   ],
   "source": [
    "import numpy as np\n",
    "from bokeh.models import Label\n",
    "from bokeh.layouts import gridplot\n",
    "from bokeh.plotting import figure, save, output_file\n",
    "\n",
    "p1 = figure()\n",
    "p1.grid.grid_line_alpha=0.6\n",
    "p1.xaxis.axis_label = 'n_estimators'\n",
    "p1.yaxis.axis_label = 'RSME'\n",
    "\n",
    "p1.line(n_estimators, score[2] , color='#A6CEE3', legend=\"max_depth:2\")\n",
    "p1.circle(n_estimators, score[2], color='#A6CEE3', legend=\"max_depth:2\")\n",
    "p1.line(n_estimators, score[4] , color='#000000', legend=\"max_depth:4\")\n",
    "p1.circle(n_estimators, score[4], color='#000000', legend=\"max_depth:4\")\n",
    "p1.line(n_estimators, score[6] , color='#FFFF00', legend=\"max_depth:6\")\n",
    "p1.circle(n_estimators, score[6], color='#FFFF00', legend=\"max_depth:6\")\n",
    "p1.line(n_estimators, score[8] , color='#00FF00', legend=\"max_depth:8\")\n",
    "p1.circle(n_estimators, score[8], color='#00FF00', legend=\"max_depth:8\")\n",
    "p1.line(n_estimators, score[10] , color='#000080', legend=\"max_depth:10\")\n",
    "p1.circle(n_estimators, score[10], color='#000080', legend=\"max_depth:10\")\n",
    "\n",
    "output_file(\"rsme.html\", title=\"RSME Plots\")\n",
    "\n",
    "save(gridplot([[p1]], plot_width=900, plot_height=600))  # open a browser"
   ]
  },
  {
   "cell_type": "code",
   "execution_count": null,
   "metadata": {},
   "outputs": [],
   "source": []
  }
 ],
 "metadata": {
  "kernelspec": {
   "display_name": "Python 3",
   "language": "python",
   "name": "python3"
  },
  "language_info": {
   "codemirror_mode": {
    "name": "ipython",
    "version": 3
   },
   "file_extension": ".py",
   "mimetype": "text/x-python",
   "name": "python",
   "nbconvert_exporter": "python",
   "pygments_lexer": "ipython3",
   "version": "3.6.7"
  }
 },
 "nbformat": 4,
 "nbformat_minor": 2
}
