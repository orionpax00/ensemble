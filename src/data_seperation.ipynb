{
 "cells": [
  {
   "cell_type": "code",
   "execution_count": 1,
   "metadata": {},
   "outputs": [],
   "source": [
    "import pandas as pd\n",
    "import os"
   ]
  },
  {
   "cell_type": "code",
   "execution_count": 2,
   "metadata": {},
   "outputs": [],
   "source": [
    "data_folder = '../data'\n",
    "data_files = os.listdir(data_folder)\n",
    "four_year_data_files = []\n",
    "for file in data_files:\n",
    "    if file[-8:-4] == '2014' or file[-8:-4] == '2011' or file[-8:-4] == '2013' or file[-8:-4] == '2012':\n",
    "        four_year_data_files.append(file)"
   ]
  },
  {
   "cell_type": "code",
   "execution_count": 3,
   "metadata": {},
   "outputs": [
    {
     "name": "stdout",
     "output_type": "stream",
     "text": [
      "(35040, 21)\n"
     ]
    }
   ],
   "source": [
    "merged_df = pd.read_csv(data_folder+'/'+four_year_data_files[0])\n",
    "new_columns = merged_df.iloc[1]\n",
    "year_all = merged_df[2:]\n",
    "year_all.columns =new_columns\n",
    "merged_df = year_all.loc[:, year_all.columns.notnull()]\n",
    "\n",
    "\n",
    "for i in four_year_data_files[1:]:\n",
    "    df = pd.read_csv(data_folder+'/'+i)\n",
    "    new_columns = df.iloc[1]\n",
    "    year_all = df[2:]\n",
    "    year_all.columns =new_columns\n",
    "    df = year_all.loc[:, year_all.columns.notnull()]\n",
    "    \n",
    "    merged_df = pd.concat([merged_df,df],ignore_index=True)\n",
    "    \n",
    "print(merged_df.shape)   "
   ]
  },
  {
   "cell_type": "code",
   "execution_count": 4,
   "metadata": {},
   "outputs": [],
   "source": [
    "year = merged_df.drop(columns=['Year','Month','Day','Minute','DHI','DNI','Clearsky DHI','Clearsky DNI','Fill Flag','Dew Point','Clearsky GHI','Solar Zenith Angle','Wind Direction','Snow Depth','Precipitable Water'])"
   ]
  },
  {
   "cell_type": "code",
   "execution_count": 5,
   "metadata": {},
   "outputs": [
    {
     "data": {
      "text/html": [
       "<div>\n",
       "<style scoped>\n",
       "    .dataframe tbody tr th:only-of-type {\n",
       "        vertical-align: middle;\n",
       "    }\n",
       "\n",
       "    .dataframe tbody tr th {\n",
       "        vertical-align: top;\n",
       "    }\n",
       "\n",
       "    .dataframe thead th {\n",
       "        text-align: right;\n",
       "    }\n",
       "</style>\n",
       "<table border=\"1\" class=\"dataframe\">\n",
       "  <thead>\n",
       "    <tr style=\"text-align: right;\">\n",
       "      <th>1</th>\n",
       "      <th>Hour</th>\n",
       "      <th>GHI</th>\n",
       "      <th>Temperature</th>\n",
       "      <th>Pressure</th>\n",
       "      <th>Relative Humidity</th>\n",
       "      <th>Wind Speed</th>\n",
       "    </tr>\n",
       "  </thead>\n",
       "  <tbody>\n",
       "    <tr>\n",
       "      <th>0</th>\n",
       "      <td>0</td>\n",
       "      <td>0</td>\n",
       "      <td>12.751339552289267</td>\n",
       "      <td>957.9305419921875</td>\n",
       "      <td>58.41139916942352</td>\n",
       "      <td>4.430836200714111</td>\n",
       "    </tr>\n",
       "    <tr>\n",
       "      <th>1</th>\n",
       "      <td>1</td>\n",
       "      <td>0</td>\n",
       "      <td>12.196895002047142</td>\n",
       "      <td>957.7622680664062</td>\n",
       "      <td>67.29592773800267</td>\n",
       "      <td>4.453418731689453</td>\n",
       "    </tr>\n",
       "    <tr>\n",
       "      <th>2</th>\n",
       "      <td>2</td>\n",
       "      <td>0</td>\n",
       "      <td>11.806139366268553</td>\n",
       "      <td>957.8780517578125</td>\n",
       "      <td>72.56749007380043</td>\n",
       "      <td>4.3355021476745605</td>\n",
       "    </tr>\n",
       "    <tr>\n",
       "      <th>3</th>\n",
       "      <td>3</td>\n",
       "      <td>0</td>\n",
       "      <td>11.510595990320212</td>\n",
       "      <td>957.6235961914062</td>\n",
       "      <td>75.29933981073673</td>\n",
       "      <td>4.2338972091674805</td>\n",
       "    </tr>\n",
       "    <tr>\n",
       "      <th>4</th>\n",
       "      <td>4</td>\n",
       "      <td>0</td>\n",
       "      <td>11.306806960929293</td>\n",
       "      <td>957.932861328125</td>\n",
       "      <td>76.7992879237338</td>\n",
       "      <td>4.197237968444824</td>\n",
       "    </tr>\n",
       "  </tbody>\n",
       "</table>\n",
       "</div>"
      ],
      "text/plain": [
       "1 Hour GHI         Temperature           Pressure  Relative Humidity  \\\n",
       "0    0   0  12.751339552289267  957.9305419921875  58.41139916942352   \n",
       "1    1   0  12.196895002047142  957.7622680664062  67.29592773800267   \n",
       "2    2   0  11.806139366268553  957.8780517578125  72.56749007380043   \n",
       "3    3   0  11.510595990320212  957.6235961914062  75.29933981073673   \n",
       "4    4   0  11.306806960929293   957.932861328125   76.7992879237338   \n",
       "\n",
       "1          Wind Speed  \n",
       "0   4.430836200714111  \n",
       "1   4.453418731689453  \n",
       "2  4.3355021476745605  \n",
       "3  4.2338972091674805  \n",
       "4   4.197237968444824  "
      ]
     },
     "execution_count": 5,
     "metadata": {},
     "output_type": "execute_result"
    }
   ],
   "source": [
    "year.head()"
   ]
  },
  {
   "cell_type": "code",
   "execution_count": 19,
   "metadata": {},
   "outputs": [],
   "source": [
    "# year = year[~year.Hour.str.contains(['0','1'])]\n",
    "year = year[~year['Hour'].isin(['0','1','2','3','4','5','6','18','19','20','21','22','23','24'])]"
   ]
  },
  {
   "cell_type": "code",
   "execution_count": 20,
   "metadata": {},
   "outputs": [
    {
     "data": {
      "text/html": [
       "<div>\n",
       "<style scoped>\n",
       "    .dataframe tbody tr th:only-of-type {\n",
       "        vertical-align: middle;\n",
       "    }\n",
       "\n",
       "    .dataframe tbody tr th {\n",
       "        vertical-align: top;\n",
       "    }\n",
       "\n",
       "    .dataframe thead th {\n",
       "        text-align: right;\n",
       "    }\n",
       "</style>\n",
       "<table border=\"1\" class=\"dataframe\">\n",
       "  <thead>\n",
       "    <tr style=\"text-align: right;\">\n",
       "      <th>1</th>\n",
       "      <th>Hour</th>\n",
       "      <th>GHI</th>\n",
       "      <th>Temperature</th>\n",
       "      <th>Pressure</th>\n",
       "      <th>Relative Humidity</th>\n",
       "      <th>Wind Speed</th>\n",
       "    </tr>\n",
       "  </thead>\n",
       "  <tbody>\n",
       "    <tr>\n",
       "      <th>7</th>\n",
       "      <td>7</td>\n",
       "      <td>2</td>\n",
       "      <td>7.843671917128461</td>\n",
       "      <td>963.4619140625</td>\n",
       "      <td>29.510182198604596</td>\n",
       "      <td>3.0571751594543457</td>\n",
       "    </tr>\n",
       "    <tr>\n",
       "      <th>8</th>\n",
       "      <td>8</td>\n",
       "      <td>172</td>\n",
       "      <td>11.60316763285988</td>\n",
       "      <td>964.1290283203125</td>\n",
       "      <td>23.535774446461094</td>\n",
       "      <td>2.3985953330993652</td>\n",
       "    </tr>\n",
       "    <tr>\n",
       "      <th>9</th>\n",
       "      <td>9</td>\n",
       "      <td>373</td>\n",
       "      <td>16.29567322510985</td>\n",
       "      <td>964.5115966796875</td>\n",
       "      <td>21.501197394812532</td>\n",
       "      <td>1.8375225067138672</td>\n",
       "    </tr>\n",
       "    <tr>\n",
       "      <th>11</th>\n",
       "      <td>11</td>\n",
       "      <td>641</td>\n",
       "      <td>23.578190773326696</td>\n",
       "      <td>962.9659423828125</td>\n",
       "      <td>24.337960421482215</td>\n",
       "      <td>0.43651267886161804</td>\n",
       "    </tr>\n",
       "    <tr>\n",
       "      <th>12</th>\n",
       "      <td>12</td>\n",
       "      <td>684</td>\n",
       "      <td>25.0019275230145</td>\n",
       "      <td>961.9838256835938</td>\n",
       "      <td>23.328153624940963</td>\n",
       "      <td>0.2759975492954254</td>\n",
       "    </tr>\n",
       "  </tbody>\n",
       "</table>\n",
       "</div>"
      ],
      "text/plain": [
       "1  Hour  GHI         Temperature           Pressure   Relative Humidity  \\\n",
       "7     7    2   7.843671917128461     963.4619140625  29.510182198604596   \n",
       "8     8  172   11.60316763285988  964.1290283203125  23.535774446461094   \n",
       "9     9  373   16.29567322510985  964.5115966796875  21.501197394812532   \n",
       "11   11  641  23.578190773326696  962.9659423828125  24.337960421482215   \n",
       "12   12  684    25.0019275230145  961.9838256835938  23.328153624940963   \n",
       "\n",
       "1            Wind Speed  \n",
       "7    3.0571751594543457  \n",
       "8    2.3985953330993652  \n",
       "9    1.8375225067138672  \n",
       "11  0.43651267886161804  \n",
       "12   0.2759975492954254  "
      ]
     },
     "execution_count": 20,
     "metadata": {},
     "output_type": "execute_result"
    }
   ],
   "source": [
    "year.head()"
   ]
  },
  {
   "cell_type": "code",
   "execution_count": 21,
   "metadata": {},
   "outputs": [
    {
     "name": "stdout",
     "output_type": "stream",
     "text": [
      "<class 'pandas.core.frame.DataFrame'>\n",
      "Int64Index: 14600 entries, 7 to 35033\n",
      "Data columns (total 6 columns):\n",
      "Hour                 14600 non-null float64\n",
      "GHI                  14600 non-null float64\n",
      "Temperature          14600 non-null float64\n",
      "Pressure             14600 non-null float64\n",
      "Relative Humidity    14600 non-null float64\n",
      "Wind Speed           14600 non-null float64\n",
      "dtypes: float64(6)\n",
      "memory usage: 798.4 KB\n"
     ]
    }
   ],
   "source": [
    "year.to_csv('../11_hour_merged_data.csv',index=False, sep=',', encoding='utf-8')\n",
    "year.head()\n",
    "year = year.replace('-',0).astype('float64')\n",
    "year.info()"
   ]
  },
  {
   "cell_type": "code",
   "execution_count": null,
   "metadata": {},
   "outputs": [],
   "source": []
  }
 ],
 "metadata": {
  "kernelspec": {
   "display_name": "Python 3",
   "language": "python",
   "name": "python3"
  },
  "language_info": {
   "codemirror_mode": {
    "name": "ipython",
    "version": 3
   },
   "file_extension": ".py",
   "mimetype": "text/x-python",
   "name": "python",
   "nbconvert_exporter": "python",
   "pygments_lexer": "ipython3",
   "version": "3.6.7"
  }
 },
 "nbformat": 4,
 "nbformat_minor": 2
}
